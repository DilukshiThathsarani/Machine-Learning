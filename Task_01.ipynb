{
 "cells": [
  {
   "cell_type": "code",
   "execution_count": 770,
   "id": "a9367ad7-dc35-496d-9627-eac78fbb132d",
   "metadata": {},
   "outputs": [
    {
     "name": "stdout",
     "output_type": "stream",
     "text": [
      "<class 'pandas.core.frame.DataFrame'>\n",
      "RangeIndex: 41476 entries, 0 to 41475\n",
      "Data columns (total 31 columns):\n",
      " #   Column                             Non-Null Count  Dtype  \n",
      "---  ------                             --------------  -----  \n",
      " 0   PurchaseID                         41476 non-null  int64  \n",
      " 1   PurchaseTimestamp                  41476 non-null  int64  \n",
      " 2   PurchaseDate                       41476 non-null  object \n",
      " 3   Auction                            41432 non-null  object \n",
      " 4   VehYear                            41432 non-null  float64\n",
      " 5   Make                               41432 non-null  object \n",
      " 6   Color                              41432 non-null  object \n",
      " 7   Transmission                       41432 non-null  object \n",
      " 8   WheelTypeID                        41432 non-null  object \n",
      " 9   WheelType                          41380 non-null  object \n",
      " 10  VehOdo                             41432 non-null  float64\n",
      " 11  Nationality                        41432 non-null  object \n",
      " 12  Size                               41432 non-null  object \n",
      " 13  TopThreeAmericanName               41432 non-null  object \n",
      " 14  MMRAcquisitionAuctionAveragePrice  41416 non-null  object \n",
      " 15  MMRAcquisitionAuctionCleanPrice    41429 non-null  object \n",
      " 16  MMRAcquisitionRetailAveragePrice   41429 non-null  object \n",
      " 17  MMRAcquisitonRetailCleanPrice      41327 non-null  object \n",
      " 18  MMRCurrentAuctionAveragePrice      41429 non-null  object \n",
      " 19  MMRCurrentAuctionCleanPrice        41429 non-null  object \n",
      " 20  MMRCurrentRetailAveragePrice       41409 non-null  object \n",
      " 21  MMRCurrentRetailCleanPrice         41409 non-null  object \n",
      " 22  MMRCurrentRetailRatio              41116 non-null  object \n",
      " 23  PRIMEUNIT                          41432 non-null  object \n",
      " 24  AUCGUART                           41432 non-null  object \n",
      " 25  VNST                               41432 non-null  object \n",
      " 26  VehBCost                           41432 non-null  object \n",
      " 27  IsOnlineSale                       41432 non-null  object \n",
      " 28  WarrantyCost                       41432 non-null  float64\n",
      " 29  ForSale                            41476 non-null  object \n",
      " 30  IsBadBuy                           41476 non-null  int64  \n",
      "dtypes: float64(3), int64(3), object(25)\n",
      "memory usage: 9.8+ MB\n"
     ]
    },
    {
     "name": "stderr",
     "output_type": "stream",
     "text": [
      "C:\\Users\\mjcas\\AppData\\Local\\Temp\\ipykernel_26964\\2360650821.py:6: DtypeWarning: Columns (27) have mixed types. Specify dtype option on import or set low_memory=False.\n",
      "  df = pd.read_csv('kick.csv')\n"
     ]
    }
   ],
   "source": [
    "import pandas as pd\n",
    "import matplotlib.pyplot as plt\n",
    "import seaborn as sns\n",
    "import numpy as np\n",
    "# read the kick dataset\n",
    "df = pd.read_csv('kick.csv')\n",
    "# show all columns information\n",
    "df.info()"
   ]
  },
  {
   "cell_type": "code",
   "execution_count": 771,
   "id": "ea95b138-a5ad-4202-80e4-1dfdba6ab87d",
   "metadata": {},
   "outputs": [
    {
     "name": "stdout",
     "output_type": "stream",
     "text": [
      "Raw count of car makes that are considered bad or not bad purchases\n",
      "IsBadBuy  Make      \n",
      "0         CHEVROLET     8587\n",
      "          DODGE         6567\n",
      "          FORD          5387\n",
      "          CHRYSLER      4561\n",
      "          PONTIAC       2073\n",
      "          KIA           1166\n",
      "          SATURN        1060\n",
      "          NISSAN        1002\n",
      "          JEEP           825\n",
      "          HYUNDAI        821\n",
      "          SUZUKI         718\n",
      "          TOYOTA         592\n",
      "          MITSUBISHI     499\n",
      "          MAZDA          451\n",
      "          MERCURY        423\n",
      "          BUICK          351\n",
      "          GMC            310\n",
      "          HONDA          227\n",
      "          OLDSMOBILE     115\n",
      "          ISUZU           75\n",
      "          SCION           70\n",
      "          VOLKSWAGEN      61\n",
      "          LINCOLN         37\n",
      "          INFINITI        17\n",
      "          CADILLAC        14\n",
      "          SUBARU          14\n",
      "          ACURA           12\n",
      "          VOLVO           12\n",
      "          MINI            11\n",
      "          LEXUS            9\n",
      "1         FORD          1071\n",
      "          CHEVROLET      961\n",
      "          DODGE          818\n",
      "          CHRYSLER       698\n",
      "          PONTIAC        282\n",
      "          SATURN         185\n",
      "          NISSAN         184\n",
      "          KIA            171\n",
      "          JEEP           160\n",
      "          HYUNDAI        136\n",
      "          SUZUKI         124\n",
      "          MERCURY        104\n",
      "          MAZDA           81\n",
      "          TOYOTA          72\n",
      "          MITSUBISHI      70\n",
      "          BUICK           62\n",
      "          GMC             41\n",
      "          HONDA           36\n",
      "          OLDSMOBILE      31\n",
      "          LINCOLN         17\n",
      "          VOLKSWAGEN      12\n",
      "          INFINITI        10\n",
      "          MINI             8\n",
      "          ACURA            7\n",
      "          ISUZU            7\n",
      "          SCION            7\n",
      "          LEXUS            4\n",
      "          CADILLAC         3\n",
      "          SUBARU           3\n",
      "Name: count, dtype: int64\n",
      "Normalised count (percentage) of car makes that are considered bad or not bad purchases\n",
      "IsBadBuy  Make      \n",
      "0         CHEVROLET     0.238085\n",
      "          DODGE         0.182078\n",
      "          FORD          0.149361\n",
      "          CHRYSLER      0.126459\n",
      "          PONTIAC       0.057476\n",
      "          KIA           0.032329\n",
      "          SATURN        0.029390\n",
      "          NISSAN        0.027782\n",
      "          JEEP          0.022874\n",
      "          HYUNDAI       0.022763\n",
      "          SUZUKI        0.019907\n",
      "          TOYOTA        0.016414\n",
      "          MITSUBISHI    0.013835\n",
      "          MAZDA         0.012505\n",
      "          MERCURY       0.011728\n",
      "          BUICK         0.009732\n",
      "          GMC           0.008595\n",
      "          HONDA         0.006294\n",
      "          OLDSMOBILE    0.003189\n",
      "          ISUZU         0.002079\n",
      "          SCION         0.001941\n",
      "          VOLKSWAGEN    0.001691\n",
      "          LINCOLN       0.001026\n",
      "          INFINITI      0.000471\n",
      "          CADILLAC      0.000388\n",
      "          SUBARU        0.000388\n",
      "          ACURA         0.000333\n",
      "          VOLVO         0.000333\n",
      "          MINI          0.000305\n",
      "          LEXUS         0.000250\n",
      "1         FORD          0.199627\n",
      "          CHEVROLET     0.179124\n",
      "          DODGE         0.152470\n",
      "          CHRYSLER      0.130103\n",
      "          PONTIAC       0.052563\n",
      "          SATURN        0.034483\n",
      "          NISSAN        0.034296\n",
      "          KIA           0.031873\n",
      "          JEEP          0.029823\n",
      "          HYUNDAI       0.025349\n",
      "          SUZUKI        0.023113\n",
      "          MERCURY       0.019385\n",
      "          MAZDA         0.015098\n",
      "          TOYOTA        0.013420\n",
      "          MITSUBISHI    0.013048\n",
      "          BUICK         0.011556\n",
      "          GMC           0.007642\n",
      "          HONDA         0.006710\n",
      "          OLDSMOBILE    0.005778\n",
      "          LINCOLN       0.003169\n",
      "          VOLKSWAGEN    0.002237\n",
      "          INFINITI      0.001864\n",
      "          MINI          0.001491\n",
      "          ACURA         0.001305\n",
      "          ISUZU         0.001305\n",
      "          SCION         0.001305\n",
      "          LEXUS         0.000746\n",
      "          CADILLAC      0.000559\n",
      "          SUBARU        0.000559\n",
      "Name: proportion, dtype: float64\n"
     ]
    }
   ],
   "source": [
    "# get the value count of each make\n",
    "print(\"Raw count of car makes that are considered bad or not bad purchases\")\n",
    "print(df.groupby(['IsBadBuy'])['Make'].value_counts())\n",
    "\n",
    "\n",
    "# add normalisation to get the relative frequency\n",
    "print(\"Normalised count (percentage) of car makes that are considered bad or not bad purchases\")\n",
    "print(df.groupby(['IsBadBuy'])['Make'].value_counts(normalize=True))"
   ]
  },
  {
   "cell_type": "code",
   "execution_count": 772,
   "id": "fc412fb9-f92a-4dba-9d41-714a13a880b1",
   "metadata": {},
   "outputs": [
    {
     "data": {
      "text/plain": [
       "VehYear\n",
       "2006.0    9630\n",
       "2005.0    8682\n",
       "2007.0    6514\n",
       "2004.0    5792\n",
       "2008.0    4177\n",
       "2003.0    3554\n",
       "2002.0    1879\n",
       "2001.0     816\n",
       "2009.0     387\n",
       "2010.0       1\n",
       "Name: count, dtype: int64"
      ]
     },
     "execution_count": 772,
     "metadata": {},
     "output_type": "execute_result"
    }
   ],
   "source": [
    "df['VehYear'].value_counts()"
   ]
  },
  {
   "cell_type": "code",
   "execution_count": 773,
   "id": "d9c62f2e-101c-457a-8c86-dc4137c01ead",
   "metadata": {},
   "outputs": [],
   "source": [
    "# Fill missing/NaN values with the mean value across the columns.\n",
    "df['VehYear']=df['VehYear'].fillna(df['VehYear'].mean())"
   ]
  },
  {
   "cell_type": "code",
   "execution_count": 774,
   "id": "cc35956b-562c-40c5-8b9c-f0b93f89a0f7",
   "metadata": {},
   "outputs": [
    {
     "data": {
      "text/plain": [
       "VehYear\n",
       "2006.000000    9630\n",
       "2005.000000    8682\n",
       "2007.000000    6514\n",
       "2004.000000    5792\n",
       "2008.000000    4177\n",
       "2003.000000    3554\n",
       "2002.000000    1879\n",
       "2001.000000     816\n",
       "2009.000000     387\n",
       "2005.360615      44\n",
       "2010.000000       1\n",
       "Name: count, dtype: int64"
      ]
     },
     "execution_count": 774,
     "metadata": {},
     "output_type": "execute_result"
    }
   ],
   "source": [
    "df['VehYear'].value_counts()"
   ]
  },
  {
   "cell_type": "code",
   "execution_count": 775,
   "id": "9cd50f1a-62c7-4ce7-b972-c4cced960f67",
   "metadata": {},
   "outputs": [],
   "source": [
    "df['VehYear'] = df['VehYear'].astype(int)"
   ]
  },
  {
   "cell_type": "code",
   "execution_count": 776,
   "id": "60ad99d9-d2ea-4961-b365-7bf55f451164",
   "metadata": {},
   "outputs": [
    {
     "data": {
      "text/plain": [
       "VehYear\n",
       "2006    9630\n",
       "2005    8726\n",
       "2007    6514\n",
       "2004    5792\n",
       "2008    4177\n",
       "2003    3554\n",
       "2002    1879\n",
       "2001     816\n",
       "2009     387\n",
       "2010       1\n",
       "Name: count, dtype: int64"
      ]
     },
     "execution_count": 776,
     "metadata": {},
     "output_type": "execute_result"
    }
   ],
   "source": [
    "df['VehYear'].value_counts()"
   ]
  },
  {
   "cell_type": "code",
   "execution_count": 777,
   "id": "9cae4e65-51bc-4725-86b6-059947bdadda",
   "metadata": {},
   "outputs": [
    {
     "data": {
      "text/plain": [
       "MMRAcquisitionAuctionAveragePrice\n",
       "0        502\n",
       "5480     205\n",
       "6311      96\n",
       "7811      79\n",
       "7644      74\n",
       "        ... \n",
       "11917      1\n",
       "9634       1\n",
       "9844       1\n",
       "9887       1\n",
       "7535       1\n",
       "Name: count, Length: 9271, dtype: int64"
      ]
     },
     "execution_count": 777,
     "metadata": {},
     "output_type": "execute_result"
    }
   ],
   "source": [
    "df['MMRAcquisitionAuctionAveragePrice'].value_counts()"
   ]
  },
  {
   "cell_type": "code",
   "execution_count": 778,
   "id": "f3e9917e-1b0b-481c-8e59-656dd5b1ab49",
   "metadata": {},
   "outputs": [],
   "source": [
    "mask = (df['MMRAcquisitionAuctionAveragePrice'] == \"?\") | (df['MMRAcquisitionAuctionAveragePrice'] == \"0\")\n",
    "df.loc[mask, 'MMRAcquisitionAuctionAveragePrice'] = np.nan"
   ]
  },
  {
   "cell_type": "code",
   "execution_count": 779,
   "id": "20bb1ffe-5f4b-4347-a9cb-3f396eb33a67",
   "metadata": {},
   "outputs": [
    {
     "data": {
      "text/plain": [
       "MMRAcquisitionAuctionAveragePrice\n",
       "5480     205\n",
       "6311      96\n",
       "7811      79\n",
       "7644      74\n",
       "7991      72\n",
       "        ... \n",
       "10099      1\n",
       "9971       1\n",
       "9761       1\n",
       "10363      1\n",
       "7535       1\n",
       "Name: count, Length: 9269, dtype: int64"
      ]
     },
     "execution_count": 779,
     "metadata": {},
     "output_type": "execute_result"
    }
   ],
   "source": [
    "df['MMRAcquisitionAuctionAveragePrice'].value_counts()"
   ]
  },
  {
   "cell_type": "code",
   "execution_count": 780,
   "id": "ea02a097-a139-4a53-b0ab-177d69ed8c37",
   "metadata": {},
   "outputs": [],
   "source": [
    "df['MMRAcquisitionAuctionAveragePrice'] = df['MMRAcquisitionAuctionAveragePrice'].astype(float)"
   ]
  },
  {
   "cell_type": "code",
   "execution_count": 781,
   "id": "1ae96c50-c4e9-4a8e-9014-7aa76c4aae15",
   "metadata": {},
   "outputs": [],
   "source": [
    "df['MMRAcquisitionAuctionAveragePrice']=df['MMRAcquisitionAuctionAveragePrice'].fillna(df['MMRAcquisitionAuctionAveragePrice'].mean())"
   ]
  },
  {
   "cell_type": "code",
   "execution_count": 782,
   "id": "6e821965-c6c2-4dc1-b6f1-cf44de0aa479",
   "metadata": {},
   "outputs": [],
   "source": [
    "df['MMRAcquisitionAuctionAveragePrice'] = df['MMRAcquisitionAuctionAveragePrice'].astype(int)"
   ]
  },
  {
   "cell_type": "code",
   "execution_count": 783,
   "id": "5368c955-9847-4b36-bfb8-9fc01d53655f",
   "metadata": {},
   "outputs": [
    {
     "name": "stdout",
     "output_type": "stream",
     "text": [
      "<class 'pandas.core.frame.DataFrame'>\n",
      "RangeIndex: 41476 entries, 0 to 41475\n",
      "Data columns (total 31 columns):\n",
      " #   Column                             Non-Null Count  Dtype  \n",
      "---  ------                             --------------  -----  \n",
      " 0   PurchaseID                         41476 non-null  int64  \n",
      " 1   PurchaseTimestamp                  41476 non-null  int64  \n",
      " 2   PurchaseDate                       41476 non-null  object \n",
      " 3   Auction                            41432 non-null  object \n",
      " 4   VehYear                            41476 non-null  int32  \n",
      " 5   Make                               41432 non-null  object \n",
      " 6   Color                              41432 non-null  object \n",
      " 7   Transmission                       41432 non-null  object \n",
      " 8   WheelTypeID                        41432 non-null  object \n",
      " 9   WheelType                          41380 non-null  object \n",
      " 10  VehOdo                             41432 non-null  float64\n",
      " 11  Nationality                        41432 non-null  object \n",
      " 12  Size                               41432 non-null  object \n",
      " 13  TopThreeAmericanName               41432 non-null  object \n",
      " 14  MMRAcquisitionAuctionAveragePrice  41476 non-null  int32  \n",
      " 15  MMRAcquisitionAuctionCleanPrice    41429 non-null  object \n",
      " 16  MMRAcquisitionRetailAveragePrice   41429 non-null  object \n",
      " 17  MMRAcquisitonRetailCleanPrice      41327 non-null  object \n",
      " 18  MMRCurrentAuctionAveragePrice      41429 non-null  object \n",
      " 19  MMRCurrentAuctionCleanPrice        41429 non-null  object \n",
      " 20  MMRCurrentRetailAveragePrice       41409 non-null  object \n",
      " 21  MMRCurrentRetailCleanPrice         41409 non-null  object \n",
      " 22  MMRCurrentRetailRatio              41116 non-null  object \n",
      " 23  PRIMEUNIT                          41432 non-null  object \n",
      " 24  AUCGUART                           41432 non-null  object \n",
      " 25  VNST                               41432 non-null  object \n",
      " 26  VehBCost                           41432 non-null  object \n",
      " 27  IsOnlineSale                       41432 non-null  object \n",
      " 28  WarrantyCost                       41432 non-null  float64\n",
      " 29  ForSale                            41476 non-null  object \n",
      " 30  IsBadBuy                           41476 non-null  int64  \n",
      "dtypes: float64(2), int32(2), int64(3), object(24)\n",
      "memory usage: 9.5+ MB\n"
     ]
    }
   ],
   "source": [
    "df.info()"
   ]
  },
  {
   "cell_type": "code",
   "execution_count": 784,
   "id": "f427fece-0cd7-411c-af73-1106c51d89bc",
   "metadata": {},
   "outputs": [
    {
     "data": {
      "text/plain": [
       "MMRAcquisitionAuctionCleanPrice\n",
       "0        415\n",
       "6461     207\n",
       "7450     100\n",
       "1         87\n",
       "8258      81\n",
       "        ... \n",
       "2844       1\n",
       "2564       1\n",
       "13826      1\n",
       "3124       1\n",
       "5714       1\n",
       "Name: count, Length: 10010, dtype: int64"
      ]
     },
     "execution_count": 784,
     "metadata": {},
     "output_type": "execute_result"
    }
   ],
   "source": [
    "df['MMRAcquisitionAuctionCleanPrice'].value_counts()"
   ]
  },
  {
   "cell_type": "code",
   "execution_count": 785,
   "id": "ccb7652b-b0bf-4e0a-9bf2-a243e6b5d5f2",
   "metadata": {},
   "outputs": [],
   "source": [
    "mask = (df['MMRAcquisitionAuctionCleanPrice'] == \"?\") | (df['MMRAcquisitionAuctionCleanPrice'] == \"0\") | (df['MMRAcquisitionAuctionCleanPrice'] == \"1\")\n",
    "df.loc[mask, 'MMRAcquisitionAuctionCleanPrice'] = np.nan"
   ]
  },
  {
   "cell_type": "code",
   "execution_count": 786,
   "id": "be1f4311-b812-4749-a4ae-8cce2fe28ad9",
   "metadata": {},
   "outputs": [
    {
     "data": {
      "text/plain": [
       "MMRAcquisitionAuctionCleanPrice\n",
       "6461     207\n",
       "7450     100\n",
       "8258      81\n",
       "8892      74\n",
       "6584      67\n",
       "        ... \n",
       "6242       1\n",
       "12195      1\n",
       "5748       1\n",
       "10889      1\n",
       "5714       1\n",
       "Name: count, Length: 10007, dtype: int64"
      ]
     },
     "execution_count": 786,
     "metadata": {},
     "output_type": "execute_result"
    }
   ],
   "source": [
    "df['MMRAcquisitionAuctionCleanPrice'].value_counts()"
   ]
  },
  {
   "cell_type": "code",
   "execution_count": 787,
   "id": "f972d4e2-e039-494c-b8fc-f10313db6c8b",
   "metadata": {},
   "outputs": [],
   "source": [
    "df['MMRAcquisitionAuctionCleanPrice'] = df['MMRAcquisitionAuctionCleanPrice'].astype(float)\n",
    "df['MMRAcquisitionAuctionCleanPrice']=df['MMRAcquisitionAuctionCleanPrice'].fillna(df['MMRAcquisitionAuctionCleanPrice'].mean())"
   ]
  },
  {
   "cell_type": "code",
   "execution_count": 788,
   "id": "3730bb7f-aebe-4e7d-8312-a96a57a17509",
   "metadata": {},
   "outputs": [],
   "source": [
    "df['MMRAcquisitionAuctionCleanPrice'] = df['MMRAcquisitionAuctionCleanPrice'].astype(int)"
   ]
  },
  {
   "cell_type": "code",
   "execution_count": 789,
   "id": "9bed1c62-3b44-455f-afad-46f04273357f",
   "metadata": {},
   "outputs": [
    {
     "name": "stdout",
     "output_type": "stream",
     "text": [
      "<class 'pandas.core.frame.DataFrame'>\n",
      "RangeIndex: 41476 entries, 0 to 41475\n",
      "Data columns (total 31 columns):\n",
      " #   Column                             Non-Null Count  Dtype  \n",
      "---  ------                             --------------  -----  \n",
      " 0   PurchaseID                         41476 non-null  int64  \n",
      " 1   PurchaseTimestamp                  41476 non-null  int64  \n",
      " 2   PurchaseDate                       41476 non-null  object \n",
      " 3   Auction                            41432 non-null  object \n",
      " 4   VehYear                            41476 non-null  int32  \n",
      " 5   Make                               41432 non-null  object \n",
      " 6   Color                              41432 non-null  object \n",
      " 7   Transmission                       41432 non-null  object \n",
      " 8   WheelTypeID                        41432 non-null  object \n",
      " 9   WheelType                          41380 non-null  object \n",
      " 10  VehOdo                             41432 non-null  float64\n",
      " 11  Nationality                        41432 non-null  object \n",
      " 12  Size                               41432 non-null  object \n",
      " 13  TopThreeAmericanName               41432 non-null  object \n",
      " 14  MMRAcquisitionAuctionAveragePrice  41476 non-null  int32  \n",
      " 15  MMRAcquisitionAuctionCleanPrice    41476 non-null  int32  \n",
      " 16  MMRAcquisitionRetailAveragePrice   41429 non-null  object \n",
      " 17  MMRAcquisitonRetailCleanPrice      41327 non-null  object \n",
      " 18  MMRCurrentAuctionAveragePrice      41429 non-null  object \n",
      " 19  MMRCurrentAuctionCleanPrice        41429 non-null  object \n",
      " 20  MMRCurrentRetailAveragePrice       41409 non-null  object \n",
      " 21  MMRCurrentRetailCleanPrice         41409 non-null  object \n",
      " 22  MMRCurrentRetailRatio              41116 non-null  object \n",
      " 23  PRIMEUNIT                          41432 non-null  object \n",
      " 24  AUCGUART                           41432 non-null  object \n",
      " 25  VNST                               41432 non-null  object \n",
      " 26  VehBCost                           41432 non-null  object \n",
      " 27  IsOnlineSale                       41432 non-null  object \n",
      " 28  WarrantyCost                       41432 non-null  float64\n",
      " 29  ForSale                            41476 non-null  object \n",
      " 30  IsBadBuy                           41476 non-null  int64  \n",
      "dtypes: float64(2), int32(3), int64(3), object(23)\n",
      "memory usage: 9.3+ MB\n"
     ]
    }
   ],
   "source": [
    "df.info()"
   ]
  },
  {
   "cell_type": "code",
   "execution_count": 790,
   "id": "937eec22-de4b-44d7-9ad8-46093907915e",
   "metadata": {},
   "outputs": [
    {
     "data": {
      "text/plain": [
       "MMRAcquisitionRetailAveragePrice\n",
       "0        502\n",
       "6418     206\n",
       "7316      96\n",
       "11114     81\n",
       "8756      77\n",
       "        ... \n",
       "5313       1\n",
       "5838       1\n",
       "3171       1\n",
       "3457       1\n",
       "2656       1\n",
       "Name: count, Length: 11070, dtype: int64"
      ]
     },
     "execution_count": 790,
     "metadata": {},
     "output_type": "execute_result"
    }
   ],
   "source": [
    "df['MMRAcquisitionRetailAveragePrice'].value_counts()"
   ]
  },
  {
   "cell_type": "code",
   "execution_count": 791,
   "id": "ef9c3d5f-1238-42bf-9a08-e3b9d4f099e1",
   "metadata": {},
   "outputs": [],
   "source": [
    "mask = (df['MMRAcquisitionRetailAveragePrice'] == \"?\") | (df['MMRAcquisitionRetailAveragePrice'] == \"0\")\n",
    "df.loc[mask, 'MMRAcquisitionRetailAveragePrice'] = np.nan"
   ]
  },
  {
   "cell_type": "code",
   "execution_count": 792,
   "id": "8b545006-c2d6-467d-9a57-00b8b434453d",
   "metadata": {},
   "outputs": [
    {
     "data": {
      "text/plain": [
       "MMRAcquisitionRetailAveragePrice\n",
       "6418     206\n",
       "7316      96\n",
       "11114     81\n",
       "8756      77\n",
       "6515      68\n",
       "        ... \n",
       "15719      1\n",
       "13175      1\n",
       "14336      1\n",
       "15411      1\n",
       "2656       1\n",
       "Name: count, Length: 11068, dtype: int64"
      ]
     },
     "execution_count": 792,
     "metadata": {},
     "output_type": "execute_result"
    }
   ],
   "source": [
    "df['MMRAcquisitionRetailAveragePrice'].value_counts()"
   ]
  },
  {
   "cell_type": "code",
   "execution_count": 793,
   "id": "f6ea8e5e-56aa-453a-be63-c1eb79cd8271",
   "metadata": {},
   "outputs": [],
   "source": [
    "df['MMRAcquisitionRetailAveragePrice'] = df['MMRAcquisitionRetailAveragePrice'].astype(float)\n",
    "df['MMRAcquisitionRetailAveragePrice']=df['MMRAcquisitionRetailAveragePrice'].fillna(df['MMRAcquisitionRetailAveragePrice'].mean())\n",
    "df['MMRAcquisitionRetailAveragePrice'] = df['MMRAcquisitionRetailAveragePrice'].astype(int)"
   ]
  },
  {
   "cell_type": "code",
   "execution_count": 794,
   "id": "478277b0-fda1-4752-9f61-39330c336097",
   "metadata": {},
   "outputs": [
    {
     "name": "stdout",
     "output_type": "stream",
     "text": [
      "<class 'pandas.core.frame.DataFrame'>\n",
      "RangeIndex: 41476 entries, 0 to 41475\n",
      "Data columns (total 31 columns):\n",
      " #   Column                             Non-Null Count  Dtype  \n",
      "---  ------                             --------------  -----  \n",
      " 0   PurchaseID                         41476 non-null  int64  \n",
      " 1   PurchaseTimestamp                  41476 non-null  int64  \n",
      " 2   PurchaseDate                       41476 non-null  object \n",
      " 3   Auction                            41432 non-null  object \n",
      " 4   VehYear                            41476 non-null  int32  \n",
      " 5   Make                               41432 non-null  object \n",
      " 6   Color                              41432 non-null  object \n",
      " 7   Transmission                       41432 non-null  object \n",
      " 8   WheelTypeID                        41432 non-null  object \n",
      " 9   WheelType                          41380 non-null  object \n",
      " 10  VehOdo                             41432 non-null  float64\n",
      " 11  Nationality                        41432 non-null  object \n",
      " 12  Size                               41432 non-null  object \n",
      " 13  TopThreeAmericanName               41432 non-null  object \n",
      " 14  MMRAcquisitionAuctionAveragePrice  41476 non-null  int32  \n",
      " 15  MMRAcquisitionAuctionCleanPrice    41476 non-null  int32  \n",
      " 16  MMRAcquisitionRetailAveragePrice   41476 non-null  int32  \n",
      " 17  MMRAcquisitonRetailCleanPrice      41327 non-null  object \n",
      " 18  MMRCurrentAuctionAveragePrice      41429 non-null  object \n",
      " 19  MMRCurrentAuctionCleanPrice        41429 non-null  object \n",
      " 20  MMRCurrentRetailAveragePrice       41409 non-null  object \n",
      " 21  MMRCurrentRetailCleanPrice         41409 non-null  object \n",
      " 22  MMRCurrentRetailRatio              41116 non-null  object \n",
      " 23  PRIMEUNIT                          41432 non-null  object \n",
      " 24  AUCGUART                           41432 non-null  object \n",
      " 25  VNST                               41432 non-null  object \n",
      " 26  VehBCost                           41432 non-null  object \n",
      " 27  IsOnlineSale                       41432 non-null  object \n",
      " 28  WarrantyCost                       41432 non-null  float64\n",
      " 29  ForSale                            41476 non-null  object \n",
      " 30  IsBadBuy                           41476 non-null  int64  \n",
      "dtypes: float64(2), int32(4), int64(3), object(22)\n",
      "memory usage: 9.2+ MB\n"
     ]
    }
   ],
   "source": [
    "df.info()"
   ]
  },
  {
   "cell_type": "code",
   "execution_count": 795,
   "id": "038625ae-d986-4787-9323-547a01fe8cb0",
   "metadata": {},
   "outputs": [
    {
     "data": {
      "text/plain": [
       "MMRAcquisitonRetailCleanPrice\n",
       "0        501\n",
       "7478     207\n",
       "8546      94\n",
       "11562     80\n",
       "10103     69\n",
       "        ... \n",
       "14881      1\n",
       "15449      1\n",
       "15770      1\n",
       "13458      1\n",
       "4937       1\n",
       "Name: count, Length: 11583, dtype: int64"
      ]
     },
     "execution_count": 795,
     "metadata": {},
     "output_type": "execute_result"
    }
   ],
   "source": [
    "df['MMRAcquisitonRetailCleanPrice'].value_counts()"
   ]
  },
  {
   "cell_type": "code",
   "execution_count": 796,
   "id": "2693708b-e824-42e1-b6f7-0178acaac58a",
   "metadata": {},
   "outputs": [],
   "source": [
    "mask = (df['MMRAcquisitonRetailCleanPrice'] == \"?\") | (df['MMRAcquisitonRetailCleanPrice'] == \"0\")\n",
    "df.loc[mask, 'MMRAcquisitonRetailCleanPrice'] = np.nan"
   ]
  },
  {
   "cell_type": "code",
   "execution_count": 797,
   "id": "4dfebd62-5a99-4bdf-89a4-8e9e39ce6c4a",
   "metadata": {},
   "outputs": [
    {
     "data": {
      "text/plain": [
       "MMRAcquisitonRetailCleanPrice\n",
       "7478     207\n",
       "8546      94\n",
       "11562     80\n",
       "10103     69\n",
       "7611      67\n",
       "        ... \n",
       "15201      1\n",
       "18689      1\n",
       "20412      1\n",
       "19929      1\n",
       "4937       1\n",
       "Name: count, Length: 11581, dtype: int64"
      ]
     },
     "execution_count": 797,
     "metadata": {},
     "output_type": "execute_result"
    }
   ],
   "source": [
    "df['MMRAcquisitonRetailCleanPrice'].value_counts()"
   ]
  },
  {
   "cell_type": "code",
   "execution_count": 798,
   "id": "ca728a31-4c4c-442d-8588-02cfc5adf10d",
   "metadata": {},
   "outputs": [],
   "source": [
    "df['MMRAcquisitonRetailCleanPrice'] = df['MMRAcquisitonRetailCleanPrice'].astype(float)\n",
    "df['MMRAcquisitonRetailCleanPrice'] = df['MMRAcquisitonRetailCleanPrice'].fillna(df['MMRAcquisitonRetailCleanPrice'].mean())\n",
    "df['MMRAcquisitonRetailCleanPrice'] = df['MMRAcquisitonRetailCleanPrice'].astype(int)"
   ]
  },
  {
   "cell_type": "code",
   "execution_count": 799,
   "id": "1be66859-a0ef-45ba-a7fe-39fc33705b4f",
   "metadata": {},
   "outputs": [
    {
     "data": {
      "text/plain": [
       "MMRAcquisitonRetailCleanPrice\n",
       "9918     660\n",
       "7478     207\n",
       "8546      94\n",
       "11562     80\n",
       "10103     69\n",
       "        ... \n",
       "14881      1\n",
       "15449      1\n",
       "15770      1\n",
       "13458      1\n",
       "4937       1\n",
       "Name: count, Length: 11581, dtype: int64"
      ]
     },
     "execution_count": 799,
     "metadata": {},
     "output_type": "execute_result"
    }
   ],
   "source": [
    "df['MMRAcquisitonRetailCleanPrice'].value_counts()"
   ]
  },
  {
   "cell_type": "code",
   "execution_count": 800,
   "id": "8bfa70a2-1d29-4134-88ea-6b8bacf90d31",
   "metadata": {},
   "outputs": [
    {
     "name": "stdout",
     "output_type": "stream",
     "text": [
      "<class 'pandas.core.frame.DataFrame'>\n",
      "RangeIndex: 41476 entries, 0 to 41475\n",
      "Data columns (total 31 columns):\n",
      " #   Column                             Non-Null Count  Dtype  \n",
      "---  ------                             --------------  -----  \n",
      " 0   PurchaseID                         41476 non-null  int64  \n",
      " 1   PurchaseTimestamp                  41476 non-null  int64  \n",
      " 2   PurchaseDate                       41476 non-null  object \n",
      " 3   Auction                            41432 non-null  object \n",
      " 4   VehYear                            41476 non-null  int32  \n",
      " 5   Make                               41432 non-null  object \n",
      " 6   Color                              41432 non-null  object \n",
      " 7   Transmission                       41432 non-null  object \n",
      " 8   WheelTypeID                        41432 non-null  object \n",
      " 9   WheelType                          41380 non-null  object \n",
      " 10  VehOdo                             41432 non-null  float64\n",
      " 11  Nationality                        41432 non-null  object \n",
      " 12  Size                               41432 non-null  object \n",
      " 13  TopThreeAmericanName               41432 non-null  object \n",
      " 14  MMRAcquisitionAuctionAveragePrice  41476 non-null  int32  \n",
      " 15  MMRAcquisitionAuctionCleanPrice    41476 non-null  int32  \n",
      " 16  MMRAcquisitionRetailAveragePrice   41476 non-null  int32  \n",
      " 17  MMRAcquisitonRetailCleanPrice      41476 non-null  int32  \n",
      " 18  MMRCurrentAuctionAveragePrice      41429 non-null  object \n",
      " 19  MMRCurrentAuctionCleanPrice        41429 non-null  object \n",
      " 20  MMRCurrentRetailAveragePrice       41409 non-null  object \n",
      " 21  MMRCurrentRetailCleanPrice         41409 non-null  object \n",
      " 22  MMRCurrentRetailRatio              41116 non-null  object \n",
      " 23  PRIMEUNIT                          41432 non-null  object \n",
      " 24  AUCGUART                           41432 non-null  object \n",
      " 25  VNST                               41432 non-null  object \n",
      " 26  VehBCost                           41432 non-null  object \n",
      " 27  IsOnlineSale                       41432 non-null  object \n",
      " 28  WarrantyCost                       41432 non-null  float64\n",
      " 29  ForSale                            41476 non-null  object \n",
      " 30  IsBadBuy                           41476 non-null  int64  \n",
      "dtypes: float64(2), int32(5), int64(3), object(21)\n",
      "memory usage: 9.0+ MB\n"
     ]
    }
   ],
   "source": [
    "df.info()"
   ]
  },
  {
   "cell_type": "code",
   "execution_count": 801,
   "id": "5773129a-19ce-49cf-a6f3-3c8c3ee408b6",
   "metadata": {},
   "outputs": [
    {
     "data": {
      "text/plain": [
       "MMRCurrentAuctionAveragePrice\n",
       "0        287\n",
       "?        184\n",
       "5480     160\n",
       "6311      78\n",
       "7269      75\n",
       "        ... \n",
       "10577      1\n",
       "9964       1\n",
       "5254       1\n",
       "11460      1\n",
       "7730       1\n",
       "Name: count, Length: 9183, dtype: int64"
      ]
     },
     "execution_count": 801,
     "metadata": {},
     "output_type": "execute_result"
    }
   ],
   "source": [
    "df['MMRCurrentAuctionAveragePrice'].value_counts()"
   ]
  },
  {
   "cell_type": "code",
   "execution_count": 802,
   "id": "2fe3d4f7-93c5-46bc-8807-478b25b16476",
   "metadata": {},
   "outputs": [
    {
     "data": {
      "text/plain": [
       "MMRCurrentAuctionAveragePrice\n",
       "5480     160\n",
       "6311      78\n",
       "7269      75\n",
       "8186      71\n",
       "8033      66\n",
       "        ... \n",
       "2255       1\n",
       "11553      1\n",
       "10739      1\n",
       "4015       1\n",
       "7730       1\n",
       "Name: count, Length: 9181, dtype: int64"
      ]
     },
     "execution_count": 802,
     "metadata": {},
     "output_type": "execute_result"
    }
   ],
   "source": [
    "mask = (df['MMRCurrentAuctionAveragePrice'] == \"?\") | (df['MMRCurrentAuctionAveragePrice'] == \"0\")\n",
    "df.loc[mask, 'MMRCurrentAuctionAveragePrice'] = np.nan\n",
    "df['MMRCurrentAuctionAveragePrice'].value_counts()"
   ]
  },
  {
   "cell_type": "code",
   "execution_count": 803,
   "id": "b6c26c72-f8d2-489f-babd-bd650494a21e",
   "metadata": {},
   "outputs": [
    {
     "data": {
      "text/plain": [
       "MMRCurrentAuctionAveragePrice\n",
       "6190     519\n",
       "5480     160\n",
       "6311      78\n",
       "7269      75\n",
       "8186      71\n",
       "        ... \n",
       "8204       1\n",
       "10577      1\n",
       "9964       1\n",
       "5254       1\n",
       "7730       1\n",
       "Name: count, Length: 9181, dtype: int64"
      ]
     },
     "execution_count": 803,
     "metadata": {},
     "output_type": "execute_result"
    }
   ],
   "source": [
    "df['MMRCurrentAuctionAveragePrice'] = df['MMRCurrentAuctionAveragePrice'].astype(float)\n",
    "df['MMRCurrentAuctionAveragePrice'] = df['MMRCurrentAuctionAveragePrice'].fillna(df['MMRCurrentAuctionAveragePrice'].mean())\n",
    "df['MMRCurrentAuctionAveragePrice'] = df['MMRCurrentAuctionAveragePrice'].astype(int)\n",
    "df['MMRCurrentAuctionAveragePrice'].value_counts()"
   ]
  },
  {
   "cell_type": "code",
   "execution_count": 804,
   "id": "cd500556-c589-4d05-b8bb-729b7e68282a",
   "metadata": {},
   "outputs": [
    {
     "name": "stdout",
     "output_type": "stream",
     "text": [
      "<class 'pandas.core.frame.DataFrame'>\n",
      "RangeIndex: 41476 entries, 0 to 41475\n",
      "Data columns (total 31 columns):\n",
      " #   Column                             Non-Null Count  Dtype  \n",
      "---  ------                             --------------  -----  \n",
      " 0   PurchaseID                         41476 non-null  int64  \n",
      " 1   PurchaseTimestamp                  41476 non-null  int64  \n",
      " 2   PurchaseDate                       41476 non-null  object \n",
      " 3   Auction                            41432 non-null  object \n",
      " 4   VehYear                            41476 non-null  int32  \n",
      " 5   Make                               41432 non-null  object \n",
      " 6   Color                              41432 non-null  object \n",
      " 7   Transmission                       41432 non-null  object \n",
      " 8   WheelTypeID                        41432 non-null  object \n",
      " 9   WheelType                          41380 non-null  object \n",
      " 10  VehOdo                             41432 non-null  float64\n",
      " 11  Nationality                        41432 non-null  object \n",
      " 12  Size                               41432 non-null  object \n",
      " 13  TopThreeAmericanName               41432 non-null  object \n",
      " 14  MMRAcquisitionAuctionAveragePrice  41476 non-null  int32  \n",
      " 15  MMRAcquisitionAuctionCleanPrice    41476 non-null  int32  \n",
      " 16  MMRAcquisitionRetailAveragePrice   41476 non-null  int32  \n",
      " 17  MMRAcquisitonRetailCleanPrice      41476 non-null  int32  \n",
      " 18  MMRCurrentAuctionAveragePrice      41476 non-null  int32  \n",
      " 19  MMRCurrentAuctionCleanPrice        41429 non-null  object \n",
      " 20  MMRCurrentRetailAveragePrice       41409 non-null  object \n",
      " 21  MMRCurrentRetailCleanPrice         41409 non-null  object \n",
      " 22  MMRCurrentRetailRatio              41116 non-null  object \n",
      " 23  PRIMEUNIT                          41432 non-null  object \n",
      " 24  AUCGUART                           41432 non-null  object \n",
      " 25  VNST                               41432 non-null  object \n",
      " 26  VehBCost                           41432 non-null  object \n",
      " 27  IsOnlineSale                       41432 non-null  object \n",
      " 28  WarrantyCost                       41432 non-null  float64\n",
      " 29  ForSale                            41476 non-null  object \n",
      " 30  IsBadBuy                           41476 non-null  int64  \n",
      "dtypes: float64(2), int32(6), int64(3), object(20)\n",
      "memory usage: 8.9+ MB\n"
     ]
    }
   ],
   "source": [
    "df.info()"
   ]
  },
  {
   "cell_type": "code",
   "execution_count": 805,
   "id": "ef2de33a-92e0-4c63-8526-230fe649b93f",
   "metadata": {},
   "outputs": [
    {
     "data": {
      "text/plain": [
       "MMRCurrentAuctionCleanPrice\n",
       "0        206\n",
       "?        184\n",
       "6461     163\n",
       "1         81\n",
       "7450      77\n",
       "        ... \n",
       "12678      1\n",
       "1739       1\n",
       "12894      1\n",
       "3778       1\n",
       "15015      1\n",
       "Name: count, Length: 9890, dtype: int64"
      ]
     },
     "execution_count": 805,
     "metadata": {},
     "output_type": "execute_result"
    }
   ],
   "source": [
    "df['MMRCurrentAuctionCleanPrice'].value_counts()"
   ]
  },
  {
   "cell_type": "code",
   "execution_count": 806,
   "id": "09809251-2a3e-4cb5-aea1-8bfbd77410e1",
   "metadata": {},
   "outputs": [
    {
     "data": {
      "text/plain": [
       "MMRCurrentAuctionCleanPrice\n",
       "6461     163\n",
       "7450      77\n",
       "8892      66\n",
       "7898      58\n",
       "8107      56\n",
       "        ... \n",
       "11994      1\n",
       "9704       1\n",
       "10014      1\n",
       "11828      1\n",
       "15015      1\n",
       "Name: count, Length: 9887, dtype: int64"
      ]
     },
     "execution_count": 806,
     "metadata": {},
     "output_type": "execute_result"
    }
   ],
   "source": [
    "mask = (df['MMRCurrentAuctionCleanPrice'] == \"?\") | (df['MMRCurrentAuctionCleanPrice'] == \"0\") | (df['MMRCurrentAuctionCleanPrice'] == \"1\")\n",
    "df.loc[mask, 'MMRCurrentAuctionCleanPrice'] = np.nan\n",
    "df['MMRCurrentAuctionCleanPrice'].value_counts()"
   ]
  },
  {
   "cell_type": "code",
   "execution_count": 807,
   "id": "1a77b46e-7278-4ac3-972b-4289e7152a13",
   "metadata": {},
   "outputs": [
    {
     "data": {
      "text/plain": [
       "MMRCurrentAuctionCleanPrice\n",
       "7453     527\n",
       "6461     163\n",
       "7450      77\n",
       "8892      66\n",
       "7898      58\n",
       "        ... \n",
       "11994      1\n",
       "9704       1\n",
       "10014      1\n",
       "11828      1\n",
       "15015      1\n",
       "Name: count, Length: 9887, dtype: int64"
      ]
     },
     "execution_count": 807,
     "metadata": {},
     "output_type": "execute_result"
    }
   ],
   "source": [
    "df['MMRCurrentAuctionCleanPrice'] = df['MMRCurrentAuctionCleanPrice'].astype(float)\n",
    "df['MMRCurrentAuctionCleanPrice'] = df['MMRCurrentAuctionCleanPrice'].fillna(df['MMRCurrentAuctionCleanPrice'].mean())\n",
    "df['MMRCurrentAuctionCleanPrice'] = df['MMRCurrentAuctionCleanPrice'].astype(int)\n",
    "df['MMRCurrentAuctionCleanPrice'].value_counts()"
   ]
  },
  {
   "cell_type": "code",
   "execution_count": 808,
   "id": "1543ef2a-4d83-4d2c-8104-e7bfb49e0291",
   "metadata": {},
   "outputs": [
    {
     "name": "stdout",
     "output_type": "stream",
     "text": [
      "<class 'pandas.core.frame.DataFrame'>\n",
      "RangeIndex: 41476 entries, 0 to 41475\n",
      "Data columns (total 31 columns):\n",
      " #   Column                             Non-Null Count  Dtype  \n",
      "---  ------                             --------------  -----  \n",
      " 0   PurchaseID                         41476 non-null  int64  \n",
      " 1   PurchaseTimestamp                  41476 non-null  int64  \n",
      " 2   PurchaseDate                       41476 non-null  object \n",
      " 3   Auction                            41432 non-null  object \n",
      " 4   VehYear                            41476 non-null  int32  \n",
      " 5   Make                               41432 non-null  object \n",
      " 6   Color                              41432 non-null  object \n",
      " 7   Transmission                       41432 non-null  object \n",
      " 8   WheelTypeID                        41432 non-null  object \n",
      " 9   WheelType                          41380 non-null  object \n",
      " 10  VehOdo                             41432 non-null  float64\n",
      " 11  Nationality                        41432 non-null  object \n",
      " 12  Size                               41432 non-null  object \n",
      " 13  TopThreeAmericanName               41432 non-null  object \n",
      " 14  MMRAcquisitionAuctionAveragePrice  41476 non-null  int32  \n",
      " 15  MMRAcquisitionAuctionCleanPrice    41476 non-null  int32  \n",
      " 16  MMRAcquisitionRetailAveragePrice   41476 non-null  int32  \n",
      " 17  MMRAcquisitonRetailCleanPrice      41476 non-null  int32  \n",
      " 18  MMRCurrentAuctionAveragePrice      41476 non-null  int32  \n",
      " 19  MMRCurrentAuctionCleanPrice        41476 non-null  int32  \n",
      " 20  MMRCurrentRetailAveragePrice       41409 non-null  object \n",
      " 21  MMRCurrentRetailCleanPrice         41409 non-null  object \n",
      " 22  MMRCurrentRetailRatio              41116 non-null  object \n",
      " 23  PRIMEUNIT                          41432 non-null  object \n",
      " 24  AUCGUART                           41432 non-null  object \n",
      " 25  VNST                               41432 non-null  object \n",
      " 26  VehBCost                           41432 non-null  object \n",
      " 27  IsOnlineSale                       41432 non-null  object \n",
      " 28  WarrantyCost                       41432 non-null  float64\n",
      " 29  ForSale                            41476 non-null  object \n",
      " 30  IsBadBuy                           41476 non-null  int64  \n",
      "dtypes: float64(2), int32(7), int64(3), object(19)\n",
      "memory usage: 8.7+ MB\n"
     ]
    }
   ],
   "source": [
    "df.info()"
   ]
  },
  {
   "cell_type": "code",
   "execution_count": 809,
   "id": "84325a10-fde6-4c7d-8be8-343266d2d24a",
   "metadata": {},
   "outputs": [
    {
     "data": {
      "text/plain": [
       "MMRCurrentRetailAveragePrice\n",
       "0        287\n",
       "?        184\n",
       "6418     157\n",
       "7316      77\n",
       "8756      65\n",
       "        ... \n",
       "12881      1\n",
       "9455       1\n",
       "13549      1\n",
       "9049       1\n",
       "17619      1\n",
       "Name: count, Length: 10935, dtype: int64"
      ]
     },
     "execution_count": 809,
     "metadata": {},
     "output_type": "execute_result"
    }
   ],
   "source": [
    "df['MMRCurrentRetailAveragePrice'].value_counts()"
   ]
  },
  {
   "cell_type": "code",
   "execution_count": 810,
   "id": "05ccf33a-608f-414b-bff6-216ea10fa43b",
   "metadata": {},
   "outputs": [
    {
     "data": {
      "text/plain": [
       "MMRCurrentRetailAveragePrice\n",
       "6418     157\n",
       "7316      77\n",
       "8756      65\n",
       "10834     57\n",
       "11674     55\n",
       "        ... \n",
       "11401      1\n",
       "13132      1\n",
       "15161      1\n",
       "15066      1\n",
       "17619      1\n",
       "Name: count, Length: 10933, dtype: int64"
      ]
     },
     "execution_count": 810,
     "metadata": {},
     "output_type": "execute_result"
    }
   ],
   "source": [
    "mask = (df['MMRCurrentRetailAveragePrice'] == \"?\") | (df['MMRCurrentRetailAveragePrice'] == \"0\")\n",
    "df.loc[mask, 'MMRCurrentRetailAveragePrice'] = np.nan\n",
    "df['MMRCurrentRetailAveragePrice'].value_counts()"
   ]
  },
  {
   "cell_type": "code",
   "execution_count": 811,
   "id": "2235a545-ddc2-46b0-9b42-97603c17aaf3",
   "metadata": {},
   "outputs": [
    {
     "data": {
      "text/plain": [
       "MMRCurrentRetailAveragePrice\n",
       "8826     541\n",
       "6418     157\n",
       "7316      77\n",
       "8756      65\n",
       "10834     57\n",
       "        ... \n",
       "11401      1\n",
       "13132      1\n",
       "15161      1\n",
       "15066      1\n",
       "17619      1\n",
       "Name: count, Length: 10933, dtype: int64"
      ]
     },
     "execution_count": 811,
     "metadata": {},
     "output_type": "execute_result"
    }
   ],
   "source": [
    "df['MMRCurrentRetailAveragePrice'] = df['MMRCurrentRetailAveragePrice'].astype(float)\n",
    "df['MMRCurrentRetailAveragePrice'] = df['MMRCurrentRetailAveragePrice'].fillna(df['MMRCurrentRetailAveragePrice'].mean())\n",
    "df['MMRCurrentRetailAveragePrice'] = df['MMRCurrentRetailAveragePrice'].astype(int)\n",
    "df['MMRCurrentRetailAveragePrice'].value_counts()"
   ]
  },
  {
   "cell_type": "code",
   "execution_count": 812,
   "id": "8b5ee668-c515-411e-937f-6a3f76474755",
   "metadata": {},
   "outputs": [
    {
     "name": "stdout",
     "output_type": "stream",
     "text": [
      "<class 'pandas.core.frame.DataFrame'>\n",
      "RangeIndex: 41476 entries, 0 to 41475\n",
      "Data columns (total 31 columns):\n",
      " #   Column                             Non-Null Count  Dtype  \n",
      "---  ------                             --------------  -----  \n",
      " 0   PurchaseID                         41476 non-null  int64  \n",
      " 1   PurchaseTimestamp                  41476 non-null  int64  \n",
      " 2   PurchaseDate                       41476 non-null  object \n",
      " 3   Auction                            41432 non-null  object \n",
      " 4   VehYear                            41476 non-null  int32  \n",
      " 5   Make                               41432 non-null  object \n",
      " 6   Color                              41432 non-null  object \n",
      " 7   Transmission                       41432 non-null  object \n",
      " 8   WheelTypeID                        41432 non-null  object \n",
      " 9   WheelType                          41380 non-null  object \n",
      " 10  VehOdo                             41432 non-null  float64\n",
      " 11  Nationality                        41432 non-null  object \n",
      " 12  Size                               41432 non-null  object \n",
      " 13  TopThreeAmericanName               41432 non-null  object \n",
      " 14  MMRAcquisitionAuctionAveragePrice  41476 non-null  int32  \n",
      " 15  MMRAcquisitionAuctionCleanPrice    41476 non-null  int32  \n",
      " 16  MMRAcquisitionRetailAveragePrice   41476 non-null  int32  \n",
      " 17  MMRAcquisitonRetailCleanPrice      41476 non-null  int32  \n",
      " 18  MMRCurrentAuctionAveragePrice      41476 non-null  int32  \n",
      " 19  MMRCurrentAuctionCleanPrice        41476 non-null  int32  \n",
      " 20  MMRCurrentRetailAveragePrice       41476 non-null  int32  \n",
      " 21  MMRCurrentRetailCleanPrice         41409 non-null  object \n",
      " 22  MMRCurrentRetailRatio              41116 non-null  object \n",
      " 23  PRIMEUNIT                          41432 non-null  object \n",
      " 24  AUCGUART                           41432 non-null  object \n",
      " 25  VNST                               41432 non-null  object \n",
      " 26  VehBCost                           41432 non-null  object \n",
      " 27  IsOnlineSale                       41432 non-null  object \n",
      " 28  WarrantyCost                       41432 non-null  float64\n",
      " 29  ForSale                            41476 non-null  object \n",
      " 30  IsBadBuy                           41476 non-null  int64  \n",
      "dtypes: float64(2), int32(8), int64(3), object(18)\n",
      "memory usage: 8.5+ MB\n"
     ]
    }
   ],
   "source": [
    "df.info()"
   ]
  },
  {
   "cell_type": "code",
   "execution_count": 813,
   "id": "c9f6cd09-5ee6-4e57-97c6-a9ca0af6dcf1",
   "metadata": {},
   "outputs": [
    {
     "data": {
      "text/plain": [
       "MMRCurrentRetailCleanPrice\n",
       "0        287\n",
       "?        184\n",
       "7478     161\n",
       "8546      75\n",
       "10103     65\n",
       "        ... \n",
       "4396       1\n",
       "3700       1\n",
       "9667       1\n",
       "10165      1\n",
       "14402      1\n",
       "Name: count, Length: 11363, dtype: int64"
      ]
     },
     "execution_count": 813,
     "metadata": {},
     "output_type": "execute_result"
    }
   ],
   "source": [
    "df['MMRCurrentRetailCleanPrice'].value_counts()"
   ]
  },
  {
   "cell_type": "code",
   "execution_count": 814,
   "id": "7faa10fa-5e6e-4700-bb5d-e76bf9f061f8",
   "metadata": {},
   "outputs": [
    {
     "data": {
      "text/plain": [
       "MMRCurrentRetailCleanPrice\n",
       "7478     161\n",
       "8546      75\n",
       "10103     65\n",
       "12387     59\n",
       "7611      57\n",
       "        ... \n",
       "5536       1\n",
       "4026       1\n",
       "3054       1\n",
       "13145      1\n",
       "14402      1\n",
       "Name: count, Length: 11361, dtype: int64"
      ]
     },
     "execution_count": 814,
     "metadata": {},
     "output_type": "execute_result"
    }
   ],
   "source": [
    "mask = (df['MMRCurrentRetailCleanPrice'] == \"?\") | (df['MMRCurrentRetailCleanPrice'] == \"0\")\n",
    "df.loc[mask, 'MMRCurrentRetailCleanPrice'] = np.nan\n",
    "df['MMRCurrentRetailCleanPrice'].value_counts()"
   ]
  },
  {
   "cell_type": "code",
   "execution_count": 815,
   "id": "127528f2-f9d4-4627-848c-2d211061a24b",
   "metadata": {},
   "outputs": [
    {
     "data": {
      "text/plain": [
       "MMRCurrentRetailCleanPrice\n",
       "8826     549\n",
       "7478     161\n",
       "8546      75\n",
       "10103     65\n",
       "12387     59\n",
       "        ... \n",
       "5536       1\n",
       "4026       1\n",
       "3054       1\n",
       "13145      1\n",
       "14402      1\n",
       "Name: count, Length: 11361, dtype: int64"
      ]
     },
     "execution_count": 815,
     "metadata": {},
     "output_type": "execute_result"
    }
   ],
   "source": [
    "df['MMRCurrentRetailCleanPrice'] = df['MMRCurrentRetailCleanPrice'].astype(float)\n",
    "df['MMRCurrentRetailCleanPrice'] = df['MMRCurrentRetailCleanPrice'].fillna(df['MMRCurrentRetailAveragePrice'].mean())\n",
    "df['MMRCurrentRetailCleanPrice'] = df['MMRCurrentRetailCleanPrice'].astype(int)\n",
    "df['MMRCurrentRetailCleanPrice'].value_counts()"
   ]
  },
  {
   "cell_type": "code",
   "execution_count": 816,
   "id": "f24ead65-f7f7-458c-bff3-bc37e38bb7ed",
   "metadata": {},
   "outputs": [
    {
     "name": "stdout",
     "output_type": "stream",
     "text": [
      "<class 'pandas.core.frame.DataFrame'>\n",
      "RangeIndex: 41476 entries, 0 to 41475\n",
      "Data columns (total 31 columns):\n",
      " #   Column                             Non-Null Count  Dtype  \n",
      "---  ------                             --------------  -----  \n",
      " 0   PurchaseID                         41476 non-null  int64  \n",
      " 1   PurchaseTimestamp                  41476 non-null  int64  \n",
      " 2   PurchaseDate                       41476 non-null  object \n",
      " 3   Auction                            41432 non-null  object \n",
      " 4   VehYear                            41476 non-null  int32  \n",
      " 5   Make                               41432 non-null  object \n",
      " 6   Color                              41432 non-null  object \n",
      " 7   Transmission                       41432 non-null  object \n",
      " 8   WheelTypeID                        41432 non-null  object \n",
      " 9   WheelType                          41380 non-null  object \n",
      " 10  VehOdo                             41432 non-null  float64\n",
      " 11  Nationality                        41432 non-null  object \n",
      " 12  Size                               41432 non-null  object \n",
      " 13  TopThreeAmericanName               41432 non-null  object \n",
      " 14  MMRAcquisitionAuctionAveragePrice  41476 non-null  int32  \n",
      " 15  MMRAcquisitionAuctionCleanPrice    41476 non-null  int32  \n",
      " 16  MMRAcquisitionRetailAveragePrice   41476 non-null  int32  \n",
      " 17  MMRAcquisitonRetailCleanPrice      41476 non-null  int32  \n",
      " 18  MMRCurrentAuctionAveragePrice      41476 non-null  int32  \n",
      " 19  MMRCurrentAuctionCleanPrice        41476 non-null  int32  \n",
      " 20  MMRCurrentRetailAveragePrice       41476 non-null  int32  \n",
      " 21  MMRCurrentRetailCleanPrice         41476 non-null  int32  \n",
      " 22  MMRCurrentRetailRatio              41116 non-null  object \n",
      " 23  PRIMEUNIT                          41432 non-null  object \n",
      " 24  AUCGUART                           41432 non-null  object \n",
      " 25  VNST                               41432 non-null  object \n",
      " 26  VehBCost                           41432 non-null  object \n",
      " 27  IsOnlineSale                       41432 non-null  object \n",
      " 28  WarrantyCost                       41432 non-null  float64\n",
      " 29  ForSale                            41476 non-null  object \n",
      " 30  IsBadBuy                           41476 non-null  int64  \n",
      "dtypes: float64(2), int32(9), int64(3), object(17)\n",
      "memory usage: 8.4+ MB\n"
     ]
    }
   ],
   "source": [
    "df.info()"
   ]
  },
  {
   "cell_type": "code",
   "execution_count": 817,
   "id": "85f41159-0848-49d8-92d1-0b4d9e202a31",
   "metadata": {},
   "outputs": [
    {
     "data": {
      "text/plain": [
       "MMRCurrentRetailRatio\n",
       "#VALUE!        178\n",
       "0.858250869    156\n",
       "0.856073017     74\n",
       "0.866673265     62\n",
       "0.949268378     53\n",
       "              ... \n",
       "0.861502347      1\n",
       "0.864877861      1\n",
       "0.782296307      1\n",
       "0.889489619      1\n",
       "0.90246112       1\n",
       "Name: count, Length: 25870, dtype: int64"
      ]
     },
     "execution_count": 817,
     "metadata": {},
     "output_type": "execute_result"
    }
   ],
   "source": [
    "df['MMRCurrentRetailRatio'].value_counts()"
   ]
  },
  {
   "cell_type": "code",
   "execution_count": 818,
   "id": "1c340b3d-a5aa-45eb-b7a2-68403947d2ce",
   "metadata": {},
   "outputs": [
    {
     "data": {
      "text/plain": [
       "MMRCurrentRetailRatio\n",
       "0.858250869    156\n",
       "0.856073017     74\n",
       "0.866673265     62\n",
       "0.949268378     53\n",
       "0.855997898     52\n",
       "              ... \n",
       "0.861502347      1\n",
       "0.864877861      1\n",
       "0.782296307      1\n",
       "0.889489619      1\n",
       "0.90246112       1\n",
       "Name: count, Length: 25869, dtype: int64"
      ]
     },
     "execution_count": 818,
     "metadata": {},
     "output_type": "execute_result"
    }
   ],
   "source": [
    "mask = (df['MMRCurrentRetailRatio'] == \"#VALUE!\")\n",
    "df.loc[mask, 'MMRCurrentRetailRatio'] = np.nan\n",
    "df['MMRCurrentRetailRatio'].value_counts()"
   ]
  },
  {
   "cell_type": "code",
   "execution_count": 819,
   "id": "3aa203e5-7d3b-4911-9973-4eee53454943",
   "metadata": {},
   "outputs": [],
   "source": [
    "df['MMRCurrentRetailRatio'] = ((df['MMRCurrentRetailAveragePrice']) /(df['MMRCurrentRetailCleanPrice']))"
   ]
  },
  {
   "cell_type": "code",
   "execution_count": 820,
   "id": "28fbdab9-5e19-45e6-a9e3-fef0d68e9622",
   "metadata": {},
   "outputs": [
    {
     "data": {
      "text/plain": [
       "MMRCurrentRetailRatio\n",
       "1.000000    539\n",
       "0.858251    156\n",
       "0.856073     74\n",
       "0.866673     62\n",
       "0.949268     53\n",
       "           ... \n",
       "0.861502      1\n",
       "0.864878      1\n",
       "0.782296      1\n",
       "0.889490      1\n",
       "0.902461      1\n",
       "Name: count, Length: 25869, dtype: int64"
      ]
     },
     "execution_count": 820,
     "metadata": {},
     "output_type": "execute_result"
    }
   ],
   "source": [
    "df['MMRCurrentRetailRatio'].value_counts()"
   ]
  },
  {
   "cell_type": "code",
   "execution_count": 821,
   "id": "b0299efa-c821-4da8-868b-6802f8ac7cca",
   "metadata": {},
   "outputs": [
    {
     "name": "stdout",
     "output_type": "stream",
     "text": [
      "<class 'pandas.core.frame.DataFrame'>\n",
      "RangeIndex: 41476 entries, 0 to 41475\n",
      "Data columns (total 31 columns):\n",
      " #   Column                             Non-Null Count  Dtype  \n",
      "---  ------                             --------------  -----  \n",
      " 0   PurchaseID                         41476 non-null  int64  \n",
      " 1   PurchaseTimestamp                  41476 non-null  int64  \n",
      " 2   PurchaseDate                       41476 non-null  object \n",
      " 3   Auction                            41432 non-null  object \n",
      " 4   VehYear                            41476 non-null  int32  \n",
      " 5   Make                               41432 non-null  object \n",
      " 6   Color                              41432 non-null  object \n",
      " 7   Transmission                       41432 non-null  object \n",
      " 8   WheelTypeID                        41432 non-null  object \n",
      " 9   WheelType                          41380 non-null  object \n",
      " 10  VehOdo                             41432 non-null  float64\n",
      " 11  Nationality                        41432 non-null  object \n",
      " 12  Size                               41432 non-null  object \n",
      " 13  TopThreeAmericanName               41432 non-null  object \n",
      " 14  MMRAcquisitionAuctionAveragePrice  41476 non-null  int32  \n",
      " 15  MMRAcquisitionAuctionCleanPrice    41476 non-null  int32  \n",
      " 16  MMRAcquisitionRetailAveragePrice   41476 non-null  int32  \n",
      " 17  MMRAcquisitonRetailCleanPrice      41476 non-null  int32  \n",
      " 18  MMRCurrentAuctionAveragePrice      41476 non-null  int32  \n",
      " 19  MMRCurrentAuctionCleanPrice        41476 non-null  int32  \n",
      " 20  MMRCurrentRetailAveragePrice       41476 non-null  int32  \n",
      " 21  MMRCurrentRetailCleanPrice         41476 non-null  int32  \n",
      " 22  MMRCurrentRetailRatio              41476 non-null  float64\n",
      " 23  PRIMEUNIT                          41432 non-null  object \n",
      " 24  AUCGUART                           41432 non-null  object \n",
      " 25  VNST                               41432 non-null  object \n",
      " 26  VehBCost                           41432 non-null  object \n",
      " 27  IsOnlineSale                       41432 non-null  object \n",
      " 28  WarrantyCost                       41432 non-null  float64\n",
      " 29  ForSale                            41476 non-null  object \n",
      " 30  IsBadBuy                           41476 non-null  int64  \n",
      "dtypes: float64(3), int32(9), int64(3), object(16)\n",
      "memory usage: 8.4+ MB\n"
     ]
    }
   ],
   "source": [
    "df.info()"
   ]
  },
  {
   "cell_type": "code",
   "execution_count": 822,
   "id": "9554c7ea-b63a-4a2b-bb7c-a014acafd80b",
   "metadata": {},
   "outputs": [
    {
     "data": {
      "text/plain": [
       "Transmission\n",
       "AUTO      39930\n",
       "MANUAL     1495\n",
       "?             6\n",
       "Manual        1\n",
       "Name: count, dtype: int64"
      ]
     },
     "execution_count": 822,
     "metadata": {},
     "output_type": "execute_result"
    }
   ],
   "source": [
    "df['Transmission'].value_counts()"
   ]
  },
  {
   "cell_type": "code",
   "execution_count": 823,
   "id": "d8a9464e-2696-4bac-ba55-485fe17947c3",
   "metadata": {},
   "outputs": [
    {
     "data": {
      "text/plain": [
       "Transmission\n",
       "AUTO      39930\n",
       "MANUAL     1496\n",
       "Name: count, dtype: int64"
      ]
     },
     "execution_count": 823,
     "metadata": {},
     "output_type": "execute_result"
    }
   ],
   "source": [
    "mask = (df['Transmission'] == \"?\") | (df['MMRCurrentRetailAveragePrice'] == \" \")\n",
    "df.loc[mask, 'Transmission'] = np.nan\n",
    "df['Transmission'] = df['Transmission'].replace('Manual', 'MANUAL')\n",
    "df['Transmission'].value_counts()"
   ]
  },
  {
   "cell_type": "code",
   "execution_count": 824,
   "id": "b9cd267f-0f4e-4c58-aad9-b2b6141d2289",
   "metadata": {},
   "outputs": [
    {
     "data": {
      "text/plain": [
       "0    AUTO\n",
       "Name: Transmission, dtype: object"
      ]
     },
     "execution_count": 824,
     "metadata": {},
     "output_type": "execute_result"
    }
   ],
   "source": [
    "df['Transmission'].mode()"
   ]
  },
  {
   "cell_type": "code",
   "execution_count": 825,
   "id": "4777baf8-37dd-42b2-a845-a1c66d135dc5",
   "metadata": {},
   "outputs": [],
   "source": [
    "df['Transmission'] = df['Transmission'].fillna(df['Transmission'].mode().iloc[0])"
   ]
  },
  {
   "cell_type": "code",
   "execution_count": 826,
   "id": "ae6e0a20-6523-42a5-ac5a-d74a379053aa",
   "metadata": {},
   "outputs": [
    {
     "data": {
      "text/plain": [
       "Transmission\n",
       "AUTO      39980\n",
       "MANUAL     1496\n",
       "Name: count, dtype: int64"
      ]
     },
     "execution_count": 826,
     "metadata": {},
     "output_type": "execute_result"
    }
   ],
   "source": [
    "df['Transmission'].value_counts()"
   ]
  },
  {
   "cell_type": "code",
   "execution_count": 827,
   "id": "0f1a4c78-c90d-492f-8b40-858ec05b6857",
   "metadata": {},
   "outputs": [
    {
     "name": "stdout",
     "output_type": "stream",
     "text": [
      "<class 'pandas.core.frame.DataFrame'>\n",
      "RangeIndex: 41476 entries, 0 to 41475\n",
      "Data columns (total 31 columns):\n",
      " #   Column                             Non-Null Count  Dtype  \n",
      "---  ------                             --------------  -----  \n",
      " 0   PurchaseID                         41476 non-null  int64  \n",
      " 1   PurchaseTimestamp                  41476 non-null  int64  \n",
      " 2   PurchaseDate                       41476 non-null  object \n",
      " 3   Auction                            41432 non-null  object \n",
      " 4   VehYear                            41476 non-null  int32  \n",
      " 5   Make                               41432 non-null  object \n",
      " 6   Color                              41432 non-null  object \n",
      " 7   Transmission                       41476 non-null  object \n",
      " 8   WheelTypeID                        41432 non-null  object \n",
      " 9   WheelType                          41380 non-null  object \n",
      " 10  VehOdo                             41432 non-null  float64\n",
      " 11  Nationality                        41432 non-null  object \n",
      " 12  Size                               41432 non-null  object \n",
      " 13  TopThreeAmericanName               41432 non-null  object \n",
      " 14  MMRAcquisitionAuctionAveragePrice  41476 non-null  int32  \n",
      " 15  MMRAcquisitionAuctionCleanPrice    41476 non-null  int32  \n",
      " 16  MMRAcquisitionRetailAveragePrice   41476 non-null  int32  \n",
      " 17  MMRAcquisitonRetailCleanPrice      41476 non-null  int32  \n",
      " 18  MMRCurrentAuctionAveragePrice      41476 non-null  int32  \n",
      " 19  MMRCurrentAuctionCleanPrice        41476 non-null  int32  \n",
      " 20  MMRCurrentRetailAveragePrice       41476 non-null  int32  \n",
      " 21  MMRCurrentRetailCleanPrice         41476 non-null  int32  \n",
      " 22  MMRCurrentRetailRatio              41476 non-null  float64\n",
      " 23  PRIMEUNIT                          41432 non-null  object \n",
      " 24  AUCGUART                           41432 non-null  object \n",
      " 25  VNST                               41432 non-null  object \n",
      " 26  VehBCost                           41432 non-null  object \n",
      " 27  IsOnlineSale                       41432 non-null  object \n",
      " 28  WarrantyCost                       41432 non-null  float64\n",
      " 29  ForSale                            41476 non-null  object \n",
      " 30  IsBadBuy                           41476 non-null  int64  \n",
      "dtypes: float64(3), int32(9), int64(3), object(16)\n",
      "memory usage: 8.4+ MB\n"
     ]
    }
   ],
   "source": [
    "df.info()"
   ]
  },
  {
   "cell_type": "code",
   "execution_count": 828,
   "id": "53aabadc-de9b-4037-af59-ec35dc0bf30a",
   "metadata": {},
   "outputs": [],
   "source": [
    "transmission_map ={'AUTO':0,'MANUAL':1}\n",
    "df['Transmission'] = df['Transmission'].map(transmission_map)"
   ]
  },
  {
   "cell_type": "code",
   "execution_count": 829,
   "id": "5904b295-e2e9-4671-959c-f120415bdac7",
   "metadata": {},
   "outputs": [
    {
     "name": "stdout",
     "output_type": "stream",
     "text": [
      "<class 'pandas.core.frame.DataFrame'>\n",
      "RangeIndex: 41476 entries, 0 to 41475\n",
      "Data columns (total 31 columns):\n",
      " #   Column                             Non-Null Count  Dtype  \n",
      "---  ------                             --------------  -----  \n",
      " 0   PurchaseID                         41476 non-null  int64  \n",
      " 1   PurchaseTimestamp                  41476 non-null  int64  \n",
      " 2   PurchaseDate                       41476 non-null  object \n",
      " 3   Auction                            41432 non-null  object \n",
      " 4   VehYear                            41476 non-null  int32  \n",
      " 5   Make                               41432 non-null  object \n",
      " 6   Color                              41432 non-null  object \n",
      " 7   Transmission                       41476 non-null  int64  \n",
      " 8   WheelTypeID                        41432 non-null  object \n",
      " 9   WheelType                          41380 non-null  object \n",
      " 10  VehOdo                             41432 non-null  float64\n",
      " 11  Nationality                        41432 non-null  object \n",
      " 12  Size                               41432 non-null  object \n",
      " 13  TopThreeAmericanName               41432 non-null  object \n",
      " 14  MMRAcquisitionAuctionAveragePrice  41476 non-null  int32  \n",
      " 15  MMRAcquisitionAuctionCleanPrice    41476 non-null  int32  \n",
      " 16  MMRAcquisitionRetailAveragePrice   41476 non-null  int32  \n",
      " 17  MMRAcquisitonRetailCleanPrice      41476 non-null  int32  \n",
      " 18  MMRCurrentAuctionAveragePrice      41476 non-null  int32  \n",
      " 19  MMRCurrentAuctionCleanPrice        41476 non-null  int32  \n",
      " 20  MMRCurrentRetailAveragePrice       41476 non-null  int32  \n",
      " 21  MMRCurrentRetailCleanPrice         41476 non-null  int32  \n",
      " 22  MMRCurrentRetailRatio              41476 non-null  float64\n",
      " 23  PRIMEUNIT                          41432 non-null  object \n",
      " 24  AUCGUART                           41432 non-null  object \n",
      " 25  VNST                               41432 non-null  object \n",
      " 26  VehBCost                           41432 non-null  object \n",
      " 27  IsOnlineSale                       41432 non-null  object \n",
      " 28  WarrantyCost                       41432 non-null  float64\n",
      " 29  ForSale                            41476 non-null  object \n",
      " 30  IsBadBuy                           41476 non-null  int64  \n",
      "dtypes: float64(3), int32(9), int64(4), object(15)\n",
      "memory usage: 8.4+ MB\n"
     ]
    }
   ],
   "source": [
    "df.info()"
   ]
  },
  {
   "cell_type": "code",
   "execution_count": 830,
   "id": "6788e041-2641-4ebb-94db-b0e9ea11e739",
   "metadata": {
    "scrolled": true
   },
   "outputs": [
    {
     "data": {
      "text/plain": [
       "PRIMEUNIT\n",
       "?      39634\n",
       "NO      1764\n",
       "YES       34\n",
       "Name: count, dtype: int64"
      ]
     },
     "execution_count": 830,
     "metadata": {},
     "output_type": "execute_result"
    }
   ],
   "source": [
    "df['PRIMEUNIT'].value_counts()"
   ]
  },
  {
   "cell_type": "code",
   "execution_count": 831,
   "id": "6218b05f-d5c2-4721-8f68-74f55962f1f9",
   "metadata": {},
   "outputs": [],
   "source": [
    "df['PRIMEUNIT'] = df['PRIMEUNIT'].replace(\"?\", \"UNKNOWN\")\n",
    "mask = (df['PRIMEUNIT'] == \"0\")\n",
    "df.loc[mask, 'Transmission'] = np.nan"
   ]
  },
  {
   "cell_type": "code",
   "execution_count": 832,
   "id": "0710d663-6cac-4edb-96d1-8c128edcafdb",
   "metadata": {},
   "outputs": [
    {
     "data": {
      "text/plain": [
       "PRIMEUNIT\n",
       "UNKNOWN    39634\n",
       "NO          1764\n",
       "YES           34\n",
       "Name: count, dtype: int64"
      ]
     },
     "execution_count": 832,
     "metadata": {},
     "output_type": "execute_result"
    }
   ],
   "source": [
    "df['PRIMEUNIT'].value_counts()"
   ]
  },
  {
   "cell_type": "code",
   "execution_count": 833,
   "id": "c986a83f-e34a-44f1-bdec-7b7f673f4408",
   "metadata": {},
   "outputs": [
    {
     "data": {
      "text/plain": [
       "0    UNKNOWN\n",
       "Name: PRIMEUNIT, dtype: object"
      ]
     },
     "execution_count": 833,
     "metadata": {},
     "output_type": "execute_result"
    }
   ],
   "source": [
    "df['PRIMEUNIT'].mode()"
   ]
  },
  {
   "cell_type": "code",
   "execution_count": 834,
   "id": "e94cfeba-d330-4924-b6f6-55545096a293",
   "metadata": {},
   "outputs": [
    {
     "data": {
      "text/plain": [
       "PRIMEUNIT\n",
       "UNKNOWN    39678\n",
       "NO          1764\n",
       "YES           34\n",
       "Name: count, dtype: int64"
      ]
     },
     "execution_count": 834,
     "metadata": {},
     "output_type": "execute_result"
    }
   ],
   "source": [
    "df['PRIMEUNIT'] = df['PRIMEUNIT'].fillna(df['PRIMEUNIT'].mode().iloc[0])\n",
    "df['PRIMEUNIT'].value_counts()"
   ]
  },
  {
   "cell_type": "code",
   "execution_count": 835,
   "id": "03a6a1a5-d13a-4e47-b11a-83263a36544a",
   "metadata": {},
   "outputs": [
    {
     "data": {
      "text/plain": [
       "AUCGUART\n",
       "?        39634\n",
       "GREEN     1754\n",
       "RED         44\n",
       "Name: count, dtype: int64"
      ]
     },
     "execution_count": 835,
     "metadata": {},
     "output_type": "execute_result"
    }
   ],
   "source": [
    "df['AUCGUART'].value_counts()"
   ]
  },
  {
   "cell_type": "code",
   "execution_count": 836,
   "id": "4293690a-833d-4740-bb4b-253a728b76c2",
   "metadata": {},
   "outputs": [],
   "source": [
    "df['AUCGUART'] = df['AUCGUART'].replace(\"?\", \"UNKNOWN\")\n",
    "mask = (df['AUCGUART'] == \"0\")\n",
    "df.loc[mask, 'AUCGUART'] = np.nan"
   ]
  },
  {
   "cell_type": "code",
   "execution_count": 837,
   "id": "eb876c04-6051-4d97-868d-b2e909ff7e97",
   "metadata": {},
   "outputs": [
    {
     "data": {
      "text/plain": [
       "AUCGUART\n",
       "UNKNOWN    39634\n",
       "GREEN       1754\n",
       "RED           44\n",
       "Name: count, dtype: int64"
      ]
     },
     "execution_count": 837,
     "metadata": {},
     "output_type": "execute_result"
    }
   ],
   "source": [
    "df['AUCGUART'].value_counts()"
   ]
  },
  {
   "cell_type": "code",
   "execution_count": 838,
   "id": "6e9db4fe-eb0c-4597-84cb-5bac5c357af5",
   "metadata": {},
   "outputs": [
    {
     "data": {
      "text/plain": [
       "0    UNKNOWN\n",
       "Name: AUCGUART, dtype: object"
      ]
     },
     "execution_count": 838,
     "metadata": {},
     "output_type": "execute_result"
    }
   ],
   "source": [
    "df['AUCGUART'].mode()"
   ]
  },
  {
   "cell_type": "code",
   "execution_count": 839,
   "id": "c5e9d114-bc2f-458a-b5cd-955ec216676d",
   "metadata": {},
   "outputs": [
    {
     "data": {
      "text/plain": [
       "AUCGUART\n",
       "UNKNOWN    39678\n",
       "GREEN       1754\n",
       "RED           44\n",
       "Name: count, dtype: int64"
      ]
     },
     "execution_count": 839,
     "metadata": {},
     "output_type": "execute_result"
    }
   ],
   "source": [
    "df['AUCGUART'] = df['AUCGUART'].fillna(df['AUCGUART'].mode().iloc[0])\n",
    "df['AUCGUART'].value_counts()"
   ]
  },
  {
   "cell_type": "code",
   "execution_count": 840,
   "id": "3e353126-6828-4589-94f5-b6c2ba0c0048",
   "metadata": {
    "scrolled": true
   },
   "outputs": [
    {
     "data": {
      "text/plain": [
       "IsOnlineSale\n",
       " 0.0    31368\n",
       " 0       8572\n",
       " 1.0      753\n",
       "-1.0      601\n",
       " 1        134\n",
       " ?          2\n",
       " 2.0        1\n",
       " 4.0        1\n",
       "Name: count, dtype: int64"
      ]
     },
     "execution_count": 840,
     "metadata": {},
     "output_type": "execute_result"
    }
   ],
   "source": [
    "df['IsOnlineSale'].value_counts()"
   ]
  },
  {
   "cell_type": "code",
   "execution_count": 841,
   "id": "d55c8148-4b67-4c95-8c57-77537ff0dc4a",
   "metadata": {},
   "outputs": [],
   "source": [
    "mask = (df['IsOnlineSale'] == \"?\") | (df['IsOnlineSale'] == \" \")\n",
    "df.loc[mask, 'IsOnlineSale'] = np.nan\n",
    "df['IsOnlineSale'] = df['IsOnlineSale'].replace({1.0: 1, 0.0: 0,-1: np.nan})"
   ]
  },
  {
   "cell_type": "code",
   "execution_count": 842,
   "id": "b670f121-3a1e-4562-8a29-3d0d4f5081a7",
   "metadata": {},
   "outputs": [
    {
     "data": {
      "text/plain": [
       "IsOnlineSale\n",
       "0      31368\n",
       "0       8572\n",
       "1        753\n",
       "1        134\n",
       "2.0        1\n",
       "4.0        1\n",
       "Name: count, dtype: int64"
      ]
     },
     "execution_count": 842,
     "metadata": {},
     "output_type": "execute_result"
    }
   ],
   "source": [
    "df['IsOnlineSale'].value_counts()"
   ]
  },
  {
   "cell_type": "code",
   "execution_count": 843,
   "id": "6eac3286-595f-4c36-89dc-2b54b382dfba",
   "metadata": {},
   "outputs": [
    {
     "data": {
      "text/plain": [
       "IsOnlineSale\n",
       "0    31368\n",
       "0     8572\n",
       "1      753\n",
       "1      134\n",
       "Name: count, dtype: int64"
      ]
     },
     "execution_count": 843,
     "metadata": {},
     "output_type": "execute_result"
    }
   ],
   "source": [
    "mask = (df['IsOnlineSale'] == 2) | (df['IsOnlineSale'] == 4)\n",
    "df.loc[mask, 'IsOnlineSale'] = np.nan\n",
    "df['IsOnlineSale'].value_counts()"
   ]
  },
  {
   "cell_type": "code",
   "execution_count": 844,
   "id": "4904ea82-8808-4f13-ba62-69cda6ac6d36",
   "metadata": {},
   "outputs": [
    {
     "data": {
      "text/plain": [
       "IsOnlineSale\n",
       "0    40589\n",
       "1      887\n",
       "Name: count, dtype: int64"
      ]
     },
     "execution_count": 844,
     "metadata": {},
     "output_type": "execute_result"
    }
   ],
   "source": [
    "df['IsOnlineSale'] = df['IsOnlineSale'].astype(float)\n",
    "df['IsOnlineSale'] = df['IsOnlineSale'].fillna(df['IsOnlineSale'].mean())\n",
    "df['IsOnlineSale'] = df['IsOnlineSale'].astype(int)\n",
    "df['IsOnlineSale'].value_counts()"
   ]
  },
  {
   "cell_type": "code",
   "execution_count": 845,
   "id": "fdae77c7-a47f-4a8f-abef-5166f6394592",
   "metadata": {},
   "outputs": [
    {
     "name": "stdout",
     "output_type": "stream",
     "text": [
      "<class 'pandas.core.frame.DataFrame'>\n",
      "RangeIndex: 41476 entries, 0 to 41475\n",
      "Data columns (total 31 columns):\n",
      " #   Column                             Non-Null Count  Dtype  \n",
      "---  ------                             --------------  -----  \n",
      " 0   PurchaseID                         41476 non-null  int64  \n",
      " 1   PurchaseTimestamp                  41476 non-null  int64  \n",
      " 2   PurchaseDate                       41476 non-null  object \n",
      " 3   Auction                            41432 non-null  object \n",
      " 4   VehYear                            41476 non-null  int32  \n",
      " 5   Make                               41432 non-null  object \n",
      " 6   Color                              41432 non-null  object \n",
      " 7   Transmission                       41476 non-null  float64\n",
      " 8   WheelTypeID                        41432 non-null  object \n",
      " 9   WheelType                          41380 non-null  object \n",
      " 10  VehOdo                             41432 non-null  float64\n",
      " 11  Nationality                        41432 non-null  object \n",
      " 12  Size                               41432 non-null  object \n",
      " 13  TopThreeAmericanName               41432 non-null  object \n",
      " 14  MMRAcquisitionAuctionAveragePrice  41476 non-null  int32  \n",
      " 15  MMRAcquisitionAuctionCleanPrice    41476 non-null  int32  \n",
      " 16  MMRAcquisitionRetailAveragePrice   41476 non-null  int32  \n",
      " 17  MMRAcquisitonRetailCleanPrice      41476 non-null  int32  \n",
      " 18  MMRCurrentAuctionAveragePrice      41476 non-null  int32  \n",
      " 19  MMRCurrentAuctionCleanPrice        41476 non-null  int32  \n",
      " 20  MMRCurrentRetailAveragePrice       41476 non-null  int32  \n",
      " 21  MMRCurrentRetailCleanPrice         41476 non-null  int32  \n",
      " 22  MMRCurrentRetailRatio              41476 non-null  float64\n",
      " 23  PRIMEUNIT                          41476 non-null  object \n",
      " 24  AUCGUART                           41476 non-null  object \n",
      " 25  VNST                               41432 non-null  object \n",
      " 26  VehBCost                           41432 non-null  object \n",
      " 27  IsOnlineSale                       41476 non-null  int32  \n",
      " 28  WarrantyCost                       41432 non-null  float64\n",
      " 29  ForSale                            41476 non-null  object \n",
      " 30  IsBadBuy                           41476 non-null  int64  \n",
      "dtypes: float64(4), int32(10), int64(3), object(14)\n",
      "memory usage: 8.2+ MB\n"
     ]
    }
   ],
   "source": [
    "df.info()"
   ]
  },
  {
   "cell_type": "code",
   "execution_count": 846,
   "id": "32108f31-f22a-4663-a2b7-39f940ca2868",
   "metadata": {},
   "outputs": [
    {
     "data": {
      "text/plain": [
       "ForSale\n",
       "Yes    27402\n",
       "YES     8544\n",
       "yes     5524\n",
       "?          3\n",
       "No         2\n",
       "0          1\n",
       "Name: count, dtype: int64"
      ]
     },
     "execution_count": 846,
     "metadata": {},
     "output_type": "execute_result"
    }
   ],
   "source": [
    "df['ForSale'].value_counts()"
   ]
  },
  {
   "cell_type": "code",
   "execution_count": 847,
   "id": "00a9bbf0-aa14-4fe5-aff8-97af7146b6a3",
   "metadata": {},
   "outputs": [],
   "source": [
    "df['ForSale'] = df['ForSale'].replace({\"YES\":\"Yes\",\"yes\":\"Yes\"})"
   ]
  },
  {
   "cell_type": "code",
   "execution_count": 848,
   "id": "796c07de-93af-43fb-8c70-7fb7c4c337d1",
   "metadata": {},
   "outputs": [
    {
     "data": {
      "text/plain": [
       "ForSale\n",
       "Yes    41470\n",
       "?          3\n",
       "No         2\n",
       "0          1\n",
       "Name: count, dtype: int64"
      ]
     },
     "execution_count": 848,
     "metadata": {},
     "output_type": "execute_result"
    }
   ],
   "source": [
    "df['ForSale'].value_counts()"
   ]
  },
  {
   "cell_type": "code",
   "execution_count": 849,
   "id": "5daf67a0-adff-491a-a6d6-aca9c6aacde7",
   "metadata": {},
   "outputs": [],
   "source": [
    "mask = (df['ForSale'] == \"?\") | (df['ForSale'] == \"0\")\n",
    "df.loc[mask, 'ForSale'] = np.nan"
   ]
  },
  {
   "cell_type": "code",
   "execution_count": 850,
   "id": "ca8dbb0c-e0ae-4241-b42d-cfdacd5a1428",
   "metadata": {},
   "outputs": [
    {
     "data": {
      "text/plain": [
       "ForSale\n",
       "Yes    41470\n",
       "No         2\n",
       "Name: count, dtype: int64"
      ]
     },
     "execution_count": 850,
     "metadata": {},
     "output_type": "execute_result"
    }
   ],
   "source": [
    "df['ForSale'].value_counts()"
   ]
  },
  {
   "cell_type": "code",
   "execution_count": 851,
   "id": "890fb03a-6a16-432f-a655-b5f6dbbefed9",
   "metadata": {},
   "outputs": [],
   "source": [
    "df['ForSale'] = df['ForSale'].fillna(df['ForSale'].mode().iloc[0])"
   ]
  },
  {
   "cell_type": "code",
   "execution_count": 852,
   "id": "d4be51e8-3fb8-4915-8c1f-9096495ed7df",
   "metadata": {},
   "outputs": [
    {
     "data": {
      "text/plain": [
       "ForSale\n",
       "Yes    41474\n",
       "No         2\n",
       "Name: count, dtype: int64"
      ]
     },
     "execution_count": 852,
     "metadata": {},
     "output_type": "execute_result"
    }
   ],
   "source": [
    "df['ForSale'].value_counts()"
   ]
  },
  {
   "cell_type": "code",
   "execution_count": 853,
   "id": "b7dd847d-bcfa-47cc-900a-1b5dc62189f5",
   "metadata": {},
   "outputs": [],
   "source": [
    "for_sale_map ={'Yes':0,'No':1}\n",
    "df['ForSale'] = df['ForSale'].map(for_sale_map)"
   ]
  },
  {
   "cell_type": "code",
   "execution_count": 854,
   "id": "04e7c8f8-24ae-47c5-a869-422f44d8d300",
   "metadata": {},
   "outputs": [
    {
     "name": "stdout",
     "output_type": "stream",
     "text": [
      "<class 'pandas.core.frame.DataFrame'>\n",
      "RangeIndex: 41476 entries, 0 to 41475\n",
      "Data columns (total 31 columns):\n",
      " #   Column                             Non-Null Count  Dtype  \n",
      "---  ------                             --------------  -----  \n",
      " 0   PurchaseID                         41476 non-null  int64  \n",
      " 1   PurchaseTimestamp                  41476 non-null  int64  \n",
      " 2   PurchaseDate                       41476 non-null  object \n",
      " 3   Auction                            41432 non-null  object \n",
      " 4   VehYear                            41476 non-null  int32  \n",
      " 5   Make                               41432 non-null  object \n",
      " 6   Color                              41432 non-null  object \n",
      " 7   Transmission                       41476 non-null  float64\n",
      " 8   WheelTypeID                        41432 non-null  object \n",
      " 9   WheelType                          41380 non-null  object \n",
      " 10  VehOdo                             41432 non-null  float64\n",
      " 11  Nationality                        41432 non-null  object \n",
      " 12  Size                               41432 non-null  object \n",
      " 13  TopThreeAmericanName               41432 non-null  object \n",
      " 14  MMRAcquisitionAuctionAveragePrice  41476 non-null  int32  \n",
      " 15  MMRAcquisitionAuctionCleanPrice    41476 non-null  int32  \n",
      " 16  MMRAcquisitionRetailAveragePrice   41476 non-null  int32  \n",
      " 17  MMRAcquisitonRetailCleanPrice      41476 non-null  int32  \n",
      " 18  MMRCurrentAuctionAveragePrice      41476 non-null  int32  \n",
      " 19  MMRCurrentAuctionCleanPrice        41476 non-null  int32  \n",
      " 20  MMRCurrentRetailAveragePrice       41476 non-null  int32  \n",
      " 21  MMRCurrentRetailCleanPrice         41476 non-null  int32  \n",
      " 22  MMRCurrentRetailRatio              41476 non-null  float64\n",
      " 23  PRIMEUNIT                          41476 non-null  object \n",
      " 24  AUCGUART                           41476 non-null  object \n",
      " 25  VNST                               41432 non-null  object \n",
      " 26  VehBCost                           41432 non-null  object \n",
      " 27  IsOnlineSale                       41476 non-null  int32  \n",
      " 28  WarrantyCost                       41432 non-null  float64\n",
      " 29  ForSale                            41476 non-null  int64  \n",
      " 30  IsBadBuy                           41476 non-null  int64  \n",
      "dtypes: float64(4), int32(10), int64(4), object(13)\n",
      "memory usage: 8.2+ MB\n"
     ]
    }
   ],
   "source": [
    "df.info()"
   ]
  },
  {
   "cell_type": "code",
   "execution_count": 855,
   "id": "37897533-a704-49a2-896a-ffdfacc9cda3",
   "metadata": {},
   "outputs": [
    {
     "data": {
      "text/plain": [
       "IsBadBuy\n",
       "0    36105\n",
       "1     5371\n",
       "Name: count, dtype: int64"
      ]
     },
     "execution_count": 855,
     "metadata": {},
     "output_type": "execute_result"
    }
   ],
   "source": [
    "df['IsBadBuy'].value_counts()"
   ]
  },
  {
   "cell_type": "code",
   "execution_count": 856,
   "id": "4f977a82-e780-4d01-907a-cb2c22400d52",
   "metadata": {},
   "outputs": [
    {
     "data": {
      "text/plain": [
       "VehOdo\n",
       "83962.0    6\n",
       "73232.0    6\n",
       "67756.0    6\n",
       "79993.0    6\n",
       "79600.0    6\n",
       "          ..\n",
       "69507.0    1\n",
       "92996.0    1\n",
       "78038.0    1\n",
       "70239.0    1\n",
       "66855.0    1\n",
       "Name: count, Length: 28604, dtype: int64"
      ]
     },
     "execution_count": 856,
     "metadata": {},
     "output_type": "execute_result"
    }
   ],
   "source": [
    "df['VehOdo'].value_counts()"
   ]
  },
  {
   "cell_type": "code",
   "execution_count": 857,
   "id": "d271f6e8-10a8-46b0-a672-cc2420288476",
   "metadata": {},
   "outputs": [
    {
     "data": {
      "text/plain": [
       "VehOdo\n",
       "71300.010427    44\n",
       "85884.000000     6\n",
       "83962.000000     6\n",
       "67622.000000     6\n",
       "67953.000000     6\n",
       "                ..\n",
       "69507.000000     1\n",
       "92996.000000     1\n",
       "78038.000000     1\n",
       "70239.000000     1\n",
       "66855.000000     1\n",
       "Name: count, Length: 28605, dtype: int64"
      ]
     },
     "execution_count": 857,
     "metadata": {},
     "output_type": "execute_result"
    }
   ],
   "source": [
    "df['VehOdo'] = df['VehOdo'].fillna(df['VehOdo'].mean())\n",
    "df['VehOdo'].value_counts()"
   ]
  },
  {
   "cell_type": "code",
   "execution_count": 858,
   "id": "266948fb-165d-45d5-8244-c7c6d1d77c29",
   "metadata": {},
   "outputs": [
    {
     "name": "stdout",
     "output_type": "stream",
     "text": [
      "<class 'pandas.core.frame.DataFrame'>\n",
      "RangeIndex: 41476 entries, 0 to 41475\n",
      "Data columns (total 31 columns):\n",
      " #   Column                             Non-Null Count  Dtype  \n",
      "---  ------                             --------------  -----  \n",
      " 0   PurchaseID                         41476 non-null  int64  \n",
      " 1   PurchaseTimestamp                  41476 non-null  int64  \n",
      " 2   PurchaseDate                       41476 non-null  object \n",
      " 3   Auction                            41432 non-null  object \n",
      " 4   VehYear                            41476 non-null  int32  \n",
      " 5   Make                               41432 non-null  object \n",
      " 6   Color                              41432 non-null  object \n",
      " 7   Transmission                       41476 non-null  float64\n",
      " 8   WheelTypeID                        41432 non-null  object \n",
      " 9   WheelType                          41380 non-null  object \n",
      " 10  VehOdo                             41476 non-null  float64\n",
      " 11  Nationality                        41432 non-null  object \n",
      " 12  Size                               41432 non-null  object \n",
      " 13  TopThreeAmericanName               41432 non-null  object \n",
      " 14  MMRAcquisitionAuctionAveragePrice  41476 non-null  int32  \n",
      " 15  MMRAcquisitionAuctionCleanPrice    41476 non-null  int32  \n",
      " 16  MMRAcquisitionRetailAveragePrice   41476 non-null  int32  \n",
      " 17  MMRAcquisitonRetailCleanPrice      41476 non-null  int32  \n",
      " 18  MMRCurrentAuctionAveragePrice      41476 non-null  int32  \n",
      " 19  MMRCurrentAuctionCleanPrice        41476 non-null  int32  \n",
      " 20  MMRCurrentRetailAveragePrice       41476 non-null  int32  \n",
      " 21  MMRCurrentRetailCleanPrice         41476 non-null  int32  \n",
      " 22  MMRCurrentRetailRatio              41476 non-null  float64\n",
      " 23  PRIMEUNIT                          41476 non-null  object \n",
      " 24  AUCGUART                           41476 non-null  object \n",
      " 25  VNST                               41432 non-null  object \n",
      " 26  VehBCost                           41432 non-null  object \n",
      " 27  IsOnlineSale                       41476 non-null  int32  \n",
      " 28  WarrantyCost                       41432 non-null  float64\n",
      " 29  ForSale                            41476 non-null  int64  \n",
      " 30  IsBadBuy                           41476 non-null  int64  \n",
      "dtypes: float64(4), int32(10), int64(4), object(13)\n",
      "memory usage: 8.2+ MB\n"
     ]
    }
   ],
   "source": [
    "df.info()"
   ]
  },
  {
   "cell_type": "code",
   "execution_count": 859,
   "id": "ef175437-29ff-413a-a236-4f717b39d574",
   "metadata": {},
   "outputs": [
    {
     "data": {
      "text/plain": [
       "WarrantyCost\n",
       "920.0     1667\n",
       "1974.0    1337\n",
       "2152.0    1207\n",
       "1215.0    1183\n",
       "1389.0    1166\n",
       "          ... \n",
       "4437.0       1\n",
       "7498.0       1\n",
       "2230.0       1\n",
       "683.0        1\n",
       "7198.0       1\n",
       "Name: count, Length: 271, dtype: int64"
      ]
     },
     "execution_count": 859,
     "metadata": {},
     "output_type": "execute_result"
    }
   ],
   "source": [
    "df['WarrantyCost'].value_counts()"
   ]
  },
  {
   "cell_type": "code",
   "execution_count": 860,
   "id": "6bf2447a-0de3-448e-a52b-69c4807fed62",
   "metadata": {},
   "outputs": [
    {
     "data": {
      "text/plain": [
       "WarrantyCost\n",
       "920.0     1667\n",
       "1974.0    1337\n",
       "2152.0    1207\n",
       "1215.0    1183\n",
       "1389.0    1166\n",
       "          ... \n",
       "2172.0       1\n",
       "683.0        1\n",
       "1205.0       1\n",
       "4982.0       1\n",
       "7198.0       1\n",
       "Name: count, Length: 272, dtype: int64"
      ]
     },
     "execution_count": 860,
     "metadata": {},
     "output_type": "execute_result"
    }
   ],
   "source": [
    "df['WarrantyCost'] = df['WarrantyCost'].fillna(df['WarrantyCost'].mean())\n",
    "df['WarrantyCost'].value_counts()"
   ]
  },
  {
   "cell_type": "code",
   "execution_count": 861,
   "id": "fb770420-24c5-437c-9076-8ecf4c5afa0d",
   "metadata": {},
   "outputs": [
    {
     "name": "stdout",
     "output_type": "stream",
     "text": [
      "<class 'pandas.core.frame.DataFrame'>\n",
      "RangeIndex: 41476 entries, 0 to 41475\n",
      "Data columns (total 31 columns):\n",
      " #   Column                             Non-Null Count  Dtype  \n",
      "---  ------                             --------------  -----  \n",
      " 0   PurchaseID                         41476 non-null  int64  \n",
      " 1   PurchaseTimestamp                  41476 non-null  int64  \n",
      " 2   PurchaseDate                       41476 non-null  object \n",
      " 3   Auction                            41432 non-null  object \n",
      " 4   VehYear                            41476 non-null  int32  \n",
      " 5   Make                               41432 non-null  object \n",
      " 6   Color                              41432 non-null  object \n",
      " 7   Transmission                       41476 non-null  float64\n",
      " 8   WheelTypeID                        41432 non-null  object \n",
      " 9   WheelType                          41380 non-null  object \n",
      " 10  VehOdo                             41476 non-null  float64\n",
      " 11  Nationality                        41432 non-null  object \n",
      " 12  Size                               41432 non-null  object \n",
      " 13  TopThreeAmericanName               41432 non-null  object \n",
      " 14  MMRAcquisitionAuctionAveragePrice  41476 non-null  int32  \n",
      " 15  MMRAcquisitionAuctionCleanPrice    41476 non-null  int32  \n",
      " 16  MMRAcquisitionRetailAveragePrice   41476 non-null  int32  \n",
      " 17  MMRAcquisitonRetailCleanPrice      41476 non-null  int32  \n",
      " 18  MMRCurrentAuctionAveragePrice      41476 non-null  int32  \n",
      " 19  MMRCurrentAuctionCleanPrice        41476 non-null  int32  \n",
      " 20  MMRCurrentRetailAveragePrice       41476 non-null  int32  \n",
      " 21  MMRCurrentRetailCleanPrice         41476 non-null  int32  \n",
      " 22  MMRCurrentRetailRatio              41476 non-null  float64\n",
      " 23  PRIMEUNIT                          41476 non-null  object \n",
      " 24  AUCGUART                           41476 non-null  object \n",
      " 25  VNST                               41432 non-null  object \n",
      " 26  VehBCost                           41432 non-null  object \n",
      " 27  IsOnlineSale                       41476 non-null  int32  \n",
      " 28  WarrantyCost                       41476 non-null  float64\n",
      " 29  ForSale                            41476 non-null  int64  \n",
      " 30  IsBadBuy                           41476 non-null  int64  \n",
      "dtypes: float64(4), int32(10), int64(4), object(13)\n",
      "memory usage: 8.2+ MB\n"
     ]
    }
   ],
   "source": [
    "df.info()"
   ]
  },
  {
   "cell_type": "code",
   "execution_count": 862,
   "id": "748d305f-a209-4993-a878-0958e77cccf9",
   "metadata": {},
   "outputs": [
    {
     "data": {
      "text/plain": [
       "VehBCost\n",
       "7500     459\n",
       "6500     267\n",
       "7800     259\n",
       "7200     254\n",
       "7000     247\n",
       "        ... \n",
       "11895      1\n",
       "9916       1\n",
       "11255      1\n",
       "12785      1\n",
       "9348       1\n",
       "Name: count, Length: 1869, dtype: int64"
      ]
     },
     "execution_count": 862,
     "metadata": {},
     "output_type": "execute_result"
    }
   ],
   "source": [
    "df['VehBCost'].value_counts()"
   ]
  },
  {
   "cell_type": "code",
   "execution_count": 863,
   "id": "82e1051c-9ee3-48d9-9e42-4baad38f1093",
   "metadata": {},
   "outputs": [
    {
     "data": {
      "text/plain": [
       "VehBCost\n",
       "7500     459\n",
       "6500     267\n",
       "7800     259\n",
       "7200     254\n",
       "7000     247\n",
       "        ... \n",
       "32300      1\n",
       "3480       1\n",
       "11880      1\n",
       "28180      1\n",
       "4506       1\n",
       "Name: count, Length: 1868, dtype: int64"
      ]
     },
     "execution_count": 863,
     "metadata": {},
     "output_type": "execute_result"
    }
   ],
   "source": [
    "mask = (df['VehBCost'] == \"?\") | (df['VehBCost'] == \"0\")\n",
    "df.loc[mask, 'VehBCost'] = np.nan\n",
    "df['VehBCost'].value_counts()"
   ]
  },
  {
   "cell_type": "code",
   "execution_count": 864,
   "id": "505387cc-5c1b-41f1-8f43-420aa51d5732",
   "metadata": {},
   "outputs": [
    {
     "data": {
      "text/plain": [
       "VehBCost\n",
       "7500     459\n",
       "6500     267\n",
       "7800     259\n",
       "7200     254\n",
       "7000     247\n",
       "        ... \n",
       "11895      1\n",
       "9916       1\n",
       "11255      1\n",
       "12785      1\n",
       "9348       1\n",
       "Name: count, Length: 1869, dtype: int64"
      ]
     },
     "execution_count": 864,
     "metadata": {},
     "output_type": "execute_result"
    }
   ],
   "source": [
    "df['VehBCost'] = df['VehBCost'].astype(float)\n",
    "df['VehBCost'] = df['VehBCost'].fillna(df['VehBCost'].mean())\n",
    "df['VehBCost'] = df['VehBCost'].astype(int)\n",
    "df['VehBCost'].value_counts()"
   ]
  },
  {
   "cell_type": "code",
   "execution_count": 865,
   "id": "1f090836-9c10-4639-8eb0-79a911e766f7",
   "metadata": {},
   "outputs": [
    {
     "name": "stdout",
     "output_type": "stream",
     "text": [
      "<class 'pandas.core.frame.DataFrame'>\n",
      "RangeIndex: 41476 entries, 0 to 41475\n",
      "Data columns (total 31 columns):\n",
      " #   Column                             Non-Null Count  Dtype  \n",
      "---  ------                             --------------  -----  \n",
      " 0   PurchaseID                         41476 non-null  int64  \n",
      " 1   PurchaseTimestamp                  41476 non-null  int64  \n",
      " 2   PurchaseDate                       41476 non-null  object \n",
      " 3   Auction                            41432 non-null  object \n",
      " 4   VehYear                            41476 non-null  int32  \n",
      " 5   Make                               41432 non-null  object \n",
      " 6   Color                              41432 non-null  object \n",
      " 7   Transmission                       41476 non-null  float64\n",
      " 8   WheelTypeID                        41432 non-null  object \n",
      " 9   WheelType                          41380 non-null  object \n",
      " 10  VehOdo                             41476 non-null  float64\n",
      " 11  Nationality                        41432 non-null  object \n",
      " 12  Size                               41432 non-null  object \n",
      " 13  TopThreeAmericanName               41432 non-null  object \n",
      " 14  MMRAcquisitionAuctionAveragePrice  41476 non-null  int32  \n",
      " 15  MMRAcquisitionAuctionCleanPrice    41476 non-null  int32  \n",
      " 16  MMRAcquisitionRetailAveragePrice   41476 non-null  int32  \n",
      " 17  MMRAcquisitonRetailCleanPrice      41476 non-null  int32  \n",
      " 18  MMRCurrentAuctionAveragePrice      41476 non-null  int32  \n",
      " 19  MMRCurrentAuctionCleanPrice        41476 non-null  int32  \n",
      " 20  MMRCurrentRetailAveragePrice       41476 non-null  int32  \n",
      " 21  MMRCurrentRetailCleanPrice         41476 non-null  int32  \n",
      " 22  MMRCurrentRetailRatio              41476 non-null  float64\n",
      " 23  PRIMEUNIT                          41476 non-null  object \n",
      " 24  AUCGUART                           41476 non-null  object \n",
      " 25  VNST                               41432 non-null  object \n",
      " 26  VehBCost                           41476 non-null  int32  \n",
      " 27  IsOnlineSale                       41476 non-null  int32  \n",
      " 28  WarrantyCost                       41476 non-null  float64\n",
      " 29  ForSale                            41476 non-null  int64  \n",
      " 30  IsBadBuy                           41476 non-null  int64  \n",
      "dtypes: float64(4), int32(11), int64(4), object(12)\n",
      "memory usage: 8.1+ MB\n"
     ]
    }
   ],
   "source": [
    "df.info()"
   ]
  },
  {
   "cell_type": "code",
   "execution_count": 866,
   "id": "5d597877-159d-46ba-9d85-9cbe6ef27548",
   "metadata": {},
   "outputs": [
    {
     "data": {
      "text/plain": [
       "WheelTypeID\n",
       "1    20426\n",
       "2    18791\n",
       "?     1775\n",
       "3      437\n",
       "0        3\n",
       "Name: count, dtype: int64"
      ]
     },
     "execution_count": 866,
     "metadata": {},
     "output_type": "execute_result"
    }
   ],
   "source": [
    "df['WheelTypeID'].value_counts()"
   ]
  },
  {
   "cell_type": "code",
   "execution_count": 867,
   "id": "284c9c76-7bbf-44dd-9538-9723d12fdf84",
   "metadata": {},
   "outputs": [],
   "source": [
    "mask = (df['WheelTypeID'] == \"?\") | (df['WheelTypeID'] == \"0\")\n",
    "df.loc[mask, 'WheelTypeID'] = np.nan"
   ]
  },
  {
   "cell_type": "code",
   "execution_count": 868,
   "id": "9de2b9ba-2b0b-43f2-a995-462ca7c189cd",
   "metadata": {},
   "outputs": [
    {
     "data": {
      "text/plain": [
       "WheelTypeID\n",
       "1    22248\n",
       "2    18791\n",
       "3      437\n",
       "Name: count, dtype: int64"
      ]
     },
     "execution_count": 868,
     "metadata": {},
     "output_type": "execute_result"
    }
   ],
   "source": [
    "df['WheelTypeID'] = df['WheelTypeID'].fillna(df['WheelTypeID'].mode().iloc[0])\n",
    "df['WheelTypeID'] = df['WheelTypeID'].astype(int)\n",
    "df['WheelTypeID'].value_counts()"
   ]
  },
  {
   "cell_type": "code",
   "execution_count": 869,
   "id": "ec91c0ec-c66e-462e-9f0a-a90125a93e8e",
   "metadata": {},
   "outputs": [
    {
     "data": {
      "text/plain": [
       "WheelType\n",
       "Alloy      20406\n",
       "Covers     18761\n",
       "?           1777\n",
       "Special      436\n",
       "Name: count, dtype: int64"
      ]
     },
     "execution_count": 869,
     "metadata": {},
     "output_type": "execute_result"
    }
   ],
   "source": [
    "df['WheelType'].value_counts()"
   ]
  },
  {
   "cell_type": "code",
   "execution_count": 870,
   "id": "21828782-6284-4f83-89b7-e2d8a8ae1ca9",
   "metadata": {},
   "outputs": [
    {
     "data": {
      "text/plain": [
       "WheelType\n",
       "Alloy      22279\n",
       "Covers     18761\n",
       "Special      436\n",
       "Name: count, dtype: int64"
      ]
     },
     "execution_count": 870,
     "metadata": {},
     "output_type": "execute_result"
    }
   ],
   "source": [
    "mask = (df['WheelType'] == \"?\") | (df['WheelType'] == \"0\")\n",
    "df.loc[mask, 'WheelType'] = np.nan\n",
    "df['WheelType'] = df['WheelType'].fillna(df['WheelType'].mode().iloc[0])\n",
    "df['WheelType'].value_counts()"
   ]
  },
  {
   "cell_type": "code",
   "execution_count": 871,
   "id": "e0e0be8d-9535-45ac-8ee1-5ceef478e9cb",
   "metadata": {},
   "outputs": [
    {
     "name": "stdout",
     "output_type": "stream",
     "text": [
      "<class 'pandas.core.frame.DataFrame'>\n",
      "RangeIndex: 41476 entries, 0 to 41475\n",
      "Data columns (total 31 columns):\n",
      " #   Column                             Non-Null Count  Dtype  \n",
      "---  ------                             --------------  -----  \n",
      " 0   PurchaseID                         41476 non-null  int64  \n",
      " 1   PurchaseTimestamp                  41476 non-null  int64  \n",
      " 2   PurchaseDate                       41476 non-null  object \n",
      " 3   Auction                            41432 non-null  object \n",
      " 4   VehYear                            41476 non-null  int32  \n",
      " 5   Make                               41432 non-null  object \n",
      " 6   Color                              41432 non-null  object \n",
      " 7   Transmission                       41476 non-null  float64\n",
      " 8   WheelTypeID                        41476 non-null  int32  \n",
      " 9   WheelType                          41476 non-null  object \n",
      " 10  VehOdo                             41476 non-null  float64\n",
      " 11  Nationality                        41432 non-null  object \n",
      " 12  Size                               41432 non-null  object \n",
      " 13  TopThreeAmericanName               41432 non-null  object \n",
      " 14  MMRAcquisitionAuctionAveragePrice  41476 non-null  int32  \n",
      " 15  MMRAcquisitionAuctionCleanPrice    41476 non-null  int32  \n",
      " 16  MMRAcquisitionRetailAveragePrice   41476 non-null  int32  \n",
      " 17  MMRAcquisitonRetailCleanPrice      41476 non-null  int32  \n",
      " 18  MMRCurrentAuctionAveragePrice      41476 non-null  int32  \n",
      " 19  MMRCurrentAuctionCleanPrice        41476 non-null  int32  \n",
      " 20  MMRCurrentRetailAveragePrice       41476 non-null  int32  \n",
      " 21  MMRCurrentRetailCleanPrice         41476 non-null  int32  \n",
      " 22  MMRCurrentRetailRatio              41476 non-null  float64\n",
      " 23  PRIMEUNIT                          41476 non-null  object \n",
      " 24  AUCGUART                           41476 non-null  object \n",
      " 25  VNST                               41432 non-null  object \n",
      " 26  VehBCost                           41476 non-null  int32  \n",
      " 27  IsOnlineSale                       41476 non-null  int32  \n",
      " 28  WarrantyCost                       41476 non-null  float64\n",
      " 29  ForSale                            41476 non-null  int64  \n",
      " 30  IsBadBuy                           41476 non-null  int64  \n",
      "dtypes: float64(4), int32(12), int64(4), object(11)\n",
      "memory usage: 7.9+ MB\n"
     ]
    }
   ],
   "source": [
    "df.info()"
   ]
  },
  {
   "cell_type": "code",
   "execution_count": 872,
   "id": "96f4f5af-12cb-4c5e-a7e6-9c3432736f79",
   "metadata": {},
   "outputs": [
    {
     "data": {
      "text/plain": [
       "Auction\n",
       "MANHEIM    22168\n",
       "ADESA      11086\n",
       "OTHER       8178\n",
       "Name: count, dtype: int64"
      ]
     },
     "execution_count": 872,
     "metadata": {},
     "output_type": "execute_result"
    }
   ],
   "source": [
    "df['Auction'].value_counts()"
   ]
  },
  {
   "cell_type": "code",
   "execution_count": 873,
   "id": "0f731d39-b591-4d28-be2e-6683dffbb6bf",
   "metadata": {},
   "outputs": [
    {
     "data": {
      "text/plain": [
       "Auction\n",
       "MANHEIM    22212\n",
       "ADESA      11086\n",
       "OTHER       8178\n",
       "Name: count, dtype: int64"
      ]
     },
     "execution_count": 873,
     "metadata": {},
     "output_type": "execute_result"
    }
   ],
   "source": [
    "mask = (df['Auction'] == \"?\") | (df['Auction'] == \"0\")\n",
    "df.loc[mask, 'Auction'] = np.nan\n",
    "df['Auction'] = df['Auction'].fillna(df['Auction'].mode().iloc[0])\n",
    "df['Auction'].value_counts()"
   ]
  },
  {
   "cell_type": "code",
   "execution_count": 874,
   "id": "10c85a61-6ccf-436a-995e-7b0a08fb2326",
   "metadata": {},
   "outputs": [
    {
     "data": {
      "text/plain": [
       "Make\n",
       "CHEVROLET     9548\n",
       "DODGE         7385\n",
       "FORD          6458\n",
       "CHRYSLER      5259\n",
       "PONTIAC       2355\n",
       "KIA           1337\n",
       "SATURN        1245\n",
       "NISSAN        1186\n",
       "JEEP           985\n",
       "HYUNDAI        957\n",
       "SUZUKI         842\n",
       "TOYOTA         664\n",
       "MITSUBISHI     569\n",
       "MAZDA          532\n",
       "MERCURY        527\n",
       "BUICK          413\n",
       "GMC            351\n",
       "HONDA          263\n",
       "OLDSMOBILE     146\n",
       "ISUZU           82\n",
       "SCION           77\n",
       "VOLKSWAGEN      73\n",
       "LINCOLN         54\n",
       "INFINITI        27\n",
       "ACURA           19\n",
       "MINI            19\n",
       "CADILLAC        17\n",
       "SUBARU          17\n",
       "LEXUS           13\n",
       "VOLVO           12\n",
       "Name: count, dtype: int64"
      ]
     },
     "execution_count": 874,
     "metadata": {},
     "output_type": "execute_result"
    }
   ],
   "source": [
    "df['Make'].value_counts()"
   ]
  },
  {
   "cell_type": "code",
   "execution_count": 875,
   "id": "31a64a6a-8bd1-48ba-9764-6cd2631e1119",
   "metadata": {},
   "outputs": [
    {
     "data": {
      "text/plain": [
       "Make\n",
       "CHEVROLET     9592\n",
       "DODGE         7385\n",
       "FORD          6458\n",
       "CHRYSLER      5259\n",
       "PONTIAC       2355\n",
       "KIA           1337\n",
       "SATURN        1245\n",
       "NISSAN        1186\n",
       "JEEP           985\n",
       "HYUNDAI        957\n",
       "SUZUKI         842\n",
       "TOYOTA         664\n",
       "MITSUBISHI     569\n",
       "MAZDA          532\n",
       "MERCURY        527\n",
       "BUICK          413\n",
       "GMC            351\n",
       "HONDA          263\n",
       "OLDSMOBILE     146\n",
       "ISUZU           82\n",
       "SCION           77\n",
       "VOLKSWAGEN      73\n",
       "LINCOLN         54\n",
       "INFINITI        27\n",
       "ACURA           19\n",
       "MINI            19\n",
       "CADILLAC        17\n",
       "SUBARU          17\n",
       "LEXUS           13\n",
       "VOLVO           12\n",
       "Name: count, dtype: int64"
      ]
     },
     "execution_count": 875,
     "metadata": {},
     "output_type": "execute_result"
    }
   ],
   "source": [
    "mask = (df['Make'] == \"?\") | (df['Make'] == \"0\")\n",
    "df.loc[mask, 'Make'] = np.nan\n",
    "df['Make'] = df['Make'].fillna(df['Make'].mode().iloc[0])\n",
    "df['Make'].value_counts()"
   ]
  },
  {
   "cell_type": "code",
   "execution_count": 876,
   "id": "166f78a9-162e-470f-aba2-0400daefe574",
   "metadata": {},
   "outputs": [
    {
     "data": {
      "text/plain": [
       "Color\n",
       "SILVER       8541\n",
       "WHITE        6890\n",
       "BLUE         5855\n",
       "BLACK        4392\n",
       "GREY         4248\n",
       "RED          3661\n",
       "GOLD         3059\n",
       "GREEN        1796\n",
       "MAROON       1039\n",
       "BEIGE         894\n",
       "ORANGE        255\n",
       "BROWN         249\n",
       "PURPLE        205\n",
       "YELLOW        141\n",
       "OTHER         136\n",
       "NOT AVAIL      65\n",
       "?               6\n",
       "Name: count, dtype: int64"
      ]
     },
     "execution_count": 876,
     "metadata": {},
     "output_type": "execute_result"
    }
   ],
   "source": [
    "df['Color'].value_counts()"
   ]
  },
  {
   "cell_type": "code",
   "execution_count": 877,
   "id": "215d0f4a-b6f4-4f40-a89d-ad3bdbabf9a5",
   "metadata": {},
   "outputs": [
    {
     "data": {
      "text/plain": [
       "Color\n",
       "SILVER       8591\n",
       "WHITE        6890\n",
       "BLUE         5855\n",
       "BLACK        4392\n",
       "GREY         4248\n",
       "RED          3661\n",
       "GOLD         3059\n",
       "GREEN        1796\n",
       "MAROON       1039\n",
       "BEIGE         894\n",
       "ORANGE        255\n",
       "BROWN         249\n",
       "PURPLE        205\n",
       "YELLOW        141\n",
       "OTHER         136\n",
       "NOT AVAIL      65\n",
       "Name: count, dtype: int64"
      ]
     },
     "execution_count": 877,
     "metadata": {},
     "output_type": "execute_result"
    }
   ],
   "source": [
    "mask = (df['Color'] == \"?\") | (df['Color'] == \"0\")\n",
    "df.loc[mask, 'Color'] = np.nan\n",
    "df['Color'] = df['Color'].fillna(df['Color'].mode().iloc[0])\n",
    "df['Color'].value_counts()"
   ]
  },
  {
   "cell_type": "code",
   "execution_count": 878,
   "id": "6f185af5-b51c-4db5-9b21-5a5558091e3b",
   "metadata": {},
   "outputs": [
    {
     "data": {
      "text/plain": [
       "Nationality\n",
       "AMERICAN          34616\n",
       "OTHER ASIAN        4474\n",
       "TOP LINE ASIAN     2110\n",
       "USA                 125\n",
       "OTHER               104\n",
       "?                     3\n",
       "Name: count, dtype: int64"
      ]
     },
     "execution_count": 878,
     "metadata": {},
     "output_type": "execute_result"
    }
   ],
   "source": [
    "df['Nationality'].value_counts()"
   ]
  },
  {
   "cell_type": "code",
   "execution_count": 879,
   "id": "7107ebbe-b6aa-49d5-8433-5c04d2a0465f",
   "metadata": {},
   "outputs": [
    {
     "data": {
      "text/plain": [
       "Nationality\n",
       "AMERICAN          34663\n",
       "OTHER ASIAN        4474\n",
       "TOP LINE ASIAN     2110\n",
       "USA                 125\n",
       "OTHER               104\n",
       "Name: count, dtype: int64"
      ]
     },
     "execution_count": 879,
     "metadata": {},
     "output_type": "execute_result"
    }
   ],
   "source": [
    "mask = (df['Nationality'] == \"?\") | (df['Nationality'] == \"0\")\n",
    "df.loc[mask, 'Nationality'] = np.nan\n",
    "df['Nationality'] = df['Nationality'].fillna(df['Nationality'].mode().iloc[0])\n",
    "df['Nationality'].value_counts()"
   ]
  },
  {
   "cell_type": "code",
   "execution_count": 880,
   "id": "88e5e9f5-eecf-4a05-a087-3ebf729561c4",
   "metadata": {},
   "outputs": [
    {
     "data": {
      "text/plain": [
       "Size\n",
       "MEDIUM         17540\n",
       "LARGE           4968\n",
       "MEDIUM SUV      4569\n",
       "COMPACT         4035\n",
       "VAN             3367\n",
       "LARGE TRUCK     1897\n",
       "SMALL SUV       1332\n",
       "SPECIALTY        998\n",
       "CROSSOVER        974\n",
       "LARGE SUV        830\n",
       "SMALL TRUCK      494\n",
       "SPORTS           425\n",
       "?                  3\n",
       "Name: count, dtype: int64"
      ]
     },
     "execution_count": 880,
     "metadata": {},
     "output_type": "execute_result"
    }
   ],
   "source": [
    "df['Size'].value_counts()"
   ]
  },
  {
   "cell_type": "code",
   "execution_count": 881,
   "id": "69c1015f-188b-41d6-b99e-0e905ea198c6",
   "metadata": {},
   "outputs": [
    {
     "data": {
      "text/plain": [
       "Size\n",
       "MEDIUM         17587\n",
       "LARGE           4968\n",
       "MEDIUM SUV      4569\n",
       "COMPACT         4035\n",
       "VAN             3367\n",
       "LARGE TRUCK     1897\n",
       "SMALL SUV       1332\n",
       "SPECIALTY        998\n",
       "CROSSOVER        974\n",
       "LARGE SUV        830\n",
       "SMALL TRUCK      494\n",
       "SPORTS           425\n",
       "Name: count, dtype: int64"
      ]
     },
     "execution_count": 881,
     "metadata": {},
     "output_type": "execute_result"
    }
   ],
   "source": [
    "mask = (df['Size'] == \"?\") | (df['Size'] == \"0\")\n",
    "df.loc[mask, 'Size'] = np.nan\n",
    "df['Size'] = df['Size'].fillna(df['Size'].mode().iloc[0])\n",
    "df['Size'].value_counts()"
   ]
  },
  {
   "cell_type": "code",
   "execution_count": 882,
   "id": "696b8cf4-30fd-4418-88b9-36e3f5b2eaa4",
   "metadata": {},
   "outputs": [
    {
     "data": {
      "text/plain": [
       "TopThreeAmericanName\n",
       "GM          14075\n",
       "CHRYSLER    13627\n",
       "FORD         7039\n",
       "OTHER        6688\n",
       "?               3\n",
       "Name: count, dtype: int64"
      ]
     },
     "execution_count": 882,
     "metadata": {},
     "output_type": "execute_result"
    }
   ],
   "source": [
    "df['TopThreeAmericanName'].value_counts()"
   ]
  },
  {
   "cell_type": "code",
   "execution_count": 883,
   "id": "df4b1853-469e-46e6-9c8a-d118240b7b05",
   "metadata": {},
   "outputs": [
    {
     "data": {
      "text/plain": [
       "TopThreeAmericanName\n",
       "GM          14122\n",
       "CHRYSLER    13627\n",
       "FORD         7039\n",
       "OTHER        6688\n",
       "Name: count, dtype: int64"
      ]
     },
     "execution_count": 883,
     "metadata": {},
     "output_type": "execute_result"
    }
   ],
   "source": [
    "mask = (df['TopThreeAmericanName'] == \"?\") | (df['TopThreeAmericanName'] == \"0\")\n",
    "df.loc[mask, 'TopThreeAmericanName'] = np.nan\n",
    "df['TopThreeAmericanName'] = df['TopThreeAmericanName'].fillna(df['TopThreeAmericanName'].mode().iloc[0])\n",
    "df['TopThreeAmericanName'].value_counts()"
   ]
  },
  {
   "cell_type": "code",
   "execution_count": 884,
   "id": "96e889ff-41c1-4683-97c9-41e1aefee61e",
   "metadata": {},
   "outputs": [
    {
     "data": {
      "text/plain": [
       "VNST\n",
       "TX    9076\n",
       "FL    5250\n",
       "CO    3623\n",
       "NC    3594\n",
       "AZ    3383\n",
       "CA    3268\n",
       "OK    2595\n",
       "SC    1662\n",
       "TN    1471\n",
       "GA    1287\n",
       "VA    1093\n",
       "MO     758\n",
       "PA     700\n",
       "NV     553\n",
       "IN     486\n",
       "MS     412\n",
       "LA     349\n",
       "NJ     317\n",
       "NM     239\n",
       "KY     230\n",
       "AL     179\n",
       "IL     165\n",
       "UT     165\n",
       "WV     137\n",
       "WA     136\n",
       "OR     136\n",
       "NH      97\n",
       "NE      26\n",
       "OH      25\n",
       "ID      14\n",
       "NY       6\n",
       "Name: count, dtype: int64"
      ]
     },
     "execution_count": 884,
     "metadata": {},
     "output_type": "execute_result"
    }
   ],
   "source": [
    "df['VNST'].value_counts()"
   ]
  },
  {
   "cell_type": "code",
   "execution_count": 885,
   "id": "7038f361-090d-4e8b-ac35-d7b55a1a25b8",
   "metadata": {},
   "outputs": [
    {
     "data": {
      "text/plain": [
       "VNST\n",
       "TX    9120\n",
       "FL    5250\n",
       "CO    3623\n",
       "NC    3594\n",
       "AZ    3383\n",
       "CA    3268\n",
       "OK    2595\n",
       "SC    1662\n",
       "TN    1471\n",
       "GA    1287\n",
       "VA    1093\n",
       "MO     758\n",
       "PA     700\n",
       "NV     553\n",
       "IN     486\n",
       "MS     412\n",
       "LA     349\n",
       "NJ     317\n",
       "NM     239\n",
       "KY     230\n",
       "AL     179\n",
       "IL     165\n",
       "UT     165\n",
       "WV     137\n",
       "WA     136\n",
       "OR     136\n",
       "NH      97\n",
       "NE      26\n",
       "OH      25\n",
       "ID      14\n",
       "NY       6\n",
       "Name: count, dtype: int64"
      ]
     },
     "execution_count": 885,
     "metadata": {},
     "output_type": "execute_result"
    }
   ],
   "source": [
    "mask = (df['VNST'] == \"?\") | (df['VNST'] == \"0\")\n",
    "df.loc[mask, 'VNST'] = np.nan\n",
    "df['VNST'] = df['VNST'].fillna(df['VNST'].mode().iloc[0])\n",
    "df['VNST'].value_counts()"
   ]
  },
  {
   "cell_type": "code",
   "execution_count": 886,
   "id": "144d6459-7f9c-462b-a61e-7009a6f4b0c4",
   "metadata": {},
   "outputs": [
    {
     "name": "stdout",
     "output_type": "stream",
     "text": [
      "<class 'pandas.core.frame.DataFrame'>\n",
      "RangeIndex: 41476 entries, 0 to 41475\n",
      "Data columns (total 31 columns):\n",
      " #   Column                             Non-Null Count  Dtype  \n",
      "---  ------                             --------------  -----  \n",
      " 0   PurchaseID                         41476 non-null  int64  \n",
      " 1   PurchaseTimestamp                  41476 non-null  int64  \n",
      " 2   PurchaseDate                       41476 non-null  object \n",
      " 3   Auction                            41476 non-null  object \n",
      " 4   VehYear                            41476 non-null  int32  \n",
      " 5   Make                               41476 non-null  object \n",
      " 6   Color                              41476 non-null  object \n",
      " 7   Transmission                       41476 non-null  float64\n",
      " 8   WheelTypeID                        41476 non-null  int32  \n",
      " 9   WheelType                          41476 non-null  object \n",
      " 10  VehOdo                             41476 non-null  float64\n",
      " 11  Nationality                        41476 non-null  object \n",
      " 12  Size                               41476 non-null  object \n",
      " 13  TopThreeAmericanName               41476 non-null  object \n",
      " 14  MMRAcquisitionAuctionAveragePrice  41476 non-null  int32  \n",
      " 15  MMRAcquisitionAuctionCleanPrice    41476 non-null  int32  \n",
      " 16  MMRAcquisitionRetailAveragePrice   41476 non-null  int32  \n",
      " 17  MMRAcquisitonRetailCleanPrice      41476 non-null  int32  \n",
      " 18  MMRCurrentAuctionAveragePrice      41476 non-null  int32  \n",
      " 19  MMRCurrentAuctionCleanPrice        41476 non-null  int32  \n",
      " 20  MMRCurrentRetailAveragePrice       41476 non-null  int32  \n",
      " 21  MMRCurrentRetailCleanPrice         41476 non-null  int32  \n",
      " 22  MMRCurrentRetailRatio              41476 non-null  float64\n",
      " 23  PRIMEUNIT                          41476 non-null  object \n",
      " 24  AUCGUART                           41476 non-null  object \n",
      " 25  VNST                               41476 non-null  object \n",
      " 26  VehBCost                           41476 non-null  int32  \n",
      " 27  IsOnlineSale                       41476 non-null  int32  \n",
      " 28  WarrantyCost                       41476 non-null  float64\n",
      " 29  ForSale                            41476 non-null  int64  \n",
      " 30  IsBadBuy                           41476 non-null  int64  \n",
      "dtypes: float64(4), int32(12), int64(4), object(11)\n",
      "memory usage: 7.9+ MB\n"
     ]
    }
   ],
   "source": [
    "df.info()"
   ]
  },
  {
   "cell_type": "code",
   "execution_count": 887,
   "id": "bf9e3f1a-6af8-493e-a25c-fce7ff9435f3",
   "metadata": {},
   "outputs": [
    {
     "data": {
      "text/html": [
       "<div>\n",
       "<style scoped>\n",
       "    .dataframe tbody tr th:only-of-type {\n",
       "        vertical-align: middle;\n",
       "    }\n",
       "\n",
       "    .dataframe tbody tr th {\n",
       "        vertical-align: top;\n",
       "    }\n",
       "\n",
       "    .dataframe thead th {\n",
       "        text-align: right;\n",
       "    }\n",
       "</style>\n",
       "<table border=\"1\" class=\"dataframe\">\n",
       "  <thead>\n",
       "    <tr style=\"text-align: right;\">\n",
       "      <th></th>\n",
       "      <th>PurchaseID</th>\n",
       "      <th>PurchaseTimestamp</th>\n",
       "      <th>VehYear</th>\n",
       "      <th>Transmission</th>\n",
       "      <th>WheelTypeID</th>\n",
       "      <th>VehOdo</th>\n",
       "      <th>MMRAcquisitionAuctionAveragePrice</th>\n",
       "      <th>MMRAcquisitionAuctionCleanPrice</th>\n",
       "      <th>MMRAcquisitionRetailAveragePrice</th>\n",
       "      <th>MMRAcquisitonRetailCleanPrice</th>\n",
       "      <th>MMRCurrentAuctionAveragePrice</th>\n",
       "      <th>MMRCurrentAuctionCleanPrice</th>\n",
       "      <th>MMRCurrentRetailAveragePrice</th>\n",
       "      <th>MMRCurrentRetailCleanPrice</th>\n",
       "      <th>MMRCurrentRetailRatio</th>\n",
       "      <th>VehBCost</th>\n",
       "      <th>IsOnlineSale</th>\n",
       "      <th>WarrantyCost</th>\n",
       "      <th>ForSale</th>\n",
       "      <th>IsBadBuy</th>\n",
       "    </tr>\n",
       "  </thead>\n",
       "  <tbody>\n",
       "    <tr>\n",
       "      <th>PurchaseID</th>\n",
       "      <td>1.000000</td>\n",
       "      <td>-0.016000</td>\n",
       "      <td>-0.036637</td>\n",
       "      <td>-0.006723</td>\n",
       "      <td>-0.023341</td>\n",
       "      <td>0.010961</td>\n",
       "      <td>-0.048078</td>\n",
       "      <td>-0.045511</td>\n",
       "      <td>-0.047320</td>\n",
       "      <td>-0.047863</td>\n",
       "      <td>-0.046271</td>\n",
       "      <td>-0.043547</td>\n",
       "      <td>-0.047883</td>\n",
       "      <td>-0.044631</td>\n",
       "      <td>-0.043228</td>\n",
       "      <td>-0.037156</td>\n",
       "      <td>-0.019115</td>\n",
       "      <td>-0.016771</td>\n",
       "      <td>-0.001867</td>\n",
       "      <td>0.021812</td>\n",
       "    </tr>\n",
       "    <tr>\n",
       "      <th>PurchaseTimestamp</th>\n",
       "      <td>-0.016000</td>\n",
       "      <td>1.000000</td>\n",
       "      <td>0.212045</td>\n",
       "      <td>0.047899</td>\n",
       "      <td>0.047978</td>\n",
       "      <td>0.117364</td>\n",
       "      <td>0.082160</td>\n",
       "      <td>0.082281</td>\n",
       "      <td>0.427953</td>\n",
       "      <td>0.408115</td>\n",
       "      <td>0.055153</td>\n",
       "      <td>0.058576</td>\n",
       "      <td>0.360601</td>\n",
       "      <td>0.348572</td>\n",
       "      <td>0.281526</td>\n",
       "      <td>0.144267</td>\n",
       "      <td>0.093479</td>\n",
       "      <td>-0.045020</td>\n",
       "      <td>-0.003172</td>\n",
       "      <td>0.008770</td>\n",
       "    </tr>\n",
       "    <tr>\n",
       "      <th>VehYear</th>\n",
       "      <td>-0.036637</td>\n",
       "      <td>0.212045</td>\n",
       "      <td>1.000000</td>\n",
       "      <td>-0.055910</td>\n",
       "      <td>0.265271</td>\n",
       "      <td>-0.299002</td>\n",
       "      <td>0.600547</td>\n",
       "      <td>0.553301</td>\n",
       "      <td>0.603574</td>\n",
       "      <td>0.561334</td>\n",
       "      <td>0.597593</td>\n",
       "      <td>0.555352</td>\n",
       "      <td>0.612541</td>\n",
       "      <td>0.572912</td>\n",
       "      <td>0.536430</td>\n",
       "      <td>0.347285</td>\n",
       "      <td>0.066626</td>\n",
       "      <td>-0.272241</td>\n",
       "      <td>-0.001446</td>\n",
       "      <td>-0.165518</td>\n",
       "    </tr>\n",
       "    <tr>\n",
       "      <th>Transmission</th>\n",
       "      <td>-0.006723</td>\n",
       "      <td>0.047899</td>\n",
       "      <td>-0.055910</td>\n",
       "      <td>1.000000</td>\n",
       "      <td>0.031257</td>\n",
       "      <td>-0.036304</td>\n",
       "      <td>-0.104316</td>\n",
       "      <td>-0.104296</td>\n",
       "      <td>-0.075786</td>\n",
       "      <td>-0.078039</td>\n",
       "      <td>-0.106777</td>\n",
       "      <td>-0.106676</td>\n",
       "      <td>-0.082646</td>\n",
       "      <td>-0.083936</td>\n",
       "      <td>-0.028178</td>\n",
       "      <td>-0.146637</td>\n",
       "      <td>0.008944</td>\n",
       "      <td>-0.111767</td>\n",
       "      <td>-0.001343</td>\n",
       "      <td>-0.005287</td>\n",
       "    </tr>\n",
       "    <tr>\n",
       "      <th>WheelTypeID</th>\n",
       "      <td>-0.023341</td>\n",
       "      <td>0.047978</td>\n",
       "      <td>0.265271</td>\n",
       "      <td>0.031257</td>\n",
       "      <td>1.000000</td>\n",
       "      <td>-0.205709</td>\n",
       "      <td>-0.085045</td>\n",
       "      <td>-0.121127</td>\n",
       "      <td>-0.062618</td>\n",
       "      <td>-0.094012</td>\n",
       "      <td>-0.078521</td>\n",
       "      <td>-0.111996</td>\n",
       "      <td>-0.060229</td>\n",
       "      <td>-0.088938</td>\n",
       "      <td>0.112964</td>\n",
       "      <td>-0.146463</td>\n",
       "      <td>-0.011395</td>\n",
       "      <td>-0.123316</td>\n",
       "      <td>0.000345</td>\n",
       "      <td>-0.119806</td>\n",
       "    </tr>\n",
       "    <tr>\n",
       "      <th>VehOdo</th>\n",
       "      <td>0.010961</td>\n",
       "      <td>0.117364</td>\n",
       "      <td>-0.299002</td>\n",
       "      <td>-0.036304</td>\n",
       "      <td>-0.205709</td>\n",
       "      <td>1.000000</td>\n",
       "      <td>-0.028377</td>\n",
       "      <td>0.017599</td>\n",
       "      <td>0.016609</td>\n",
       "      <td>0.053323</td>\n",
       "      <td>-0.039657</td>\n",
       "      <td>0.004324</td>\n",
       "      <td>-0.002932</td>\n",
       "      <td>0.033535</td>\n",
       "      <td>-0.189008</td>\n",
       "      <td>-0.066654</td>\n",
       "      <td>0.029727</td>\n",
       "      <td>0.412781</td>\n",
       "      <td>-0.002853</td>\n",
       "      <td>0.079383</td>\n",
       "    </tr>\n",
       "    <tr>\n",
       "      <th>MMRAcquisitionAuctionAveragePrice</th>\n",
       "      <td>-0.048078</td>\n",
       "      <td>0.082160</td>\n",
       "      <td>0.600547</td>\n",
       "      <td>-0.104316</td>\n",
       "      <td>-0.085045</td>\n",
       "      <td>-0.028377</td>\n",
       "      <td>1.000000</td>\n",
       "      <td>0.989605</td>\n",
       "      <td>0.902469</td>\n",
       "      <td>0.900752</td>\n",
       "      <td>0.950371</td>\n",
       "      <td>0.944398</td>\n",
       "      <td>0.882794</td>\n",
       "      <td>0.881345</td>\n",
       "      <td>0.460026</td>\n",
       "      <td>0.814840</td>\n",
       "      <td>0.053417</td>\n",
       "      <td>-0.055579</td>\n",
       "      <td>0.002533</td>\n",
       "      <td>-0.114838</td>\n",
       "    </tr>\n",
       "    <tr>\n",
       "      <th>MMRAcquisitionAuctionCleanPrice</th>\n",
       "      <td>-0.045511</td>\n",
       "      <td>0.082281</td>\n",
       "      <td>0.553301</td>\n",
       "      <td>-0.104296</td>\n",
       "      <td>-0.121127</td>\n",
       "      <td>0.017599</td>\n",
       "      <td>0.989605</td>\n",
       "      <td>1.000000</td>\n",
       "      <td>0.893421</td>\n",
       "      <td>0.908717</td>\n",
       "      <td>0.938417</td>\n",
       "      <td>0.947137</td>\n",
       "      <td>0.872974</td>\n",
       "      <td>0.883666</td>\n",
       "      <td>0.397836</td>\n",
       "      <td>0.812432</td>\n",
       "      <td>0.052556</td>\n",
       "      <td>-0.024384</td>\n",
       "      <td>0.003518</td>\n",
       "      <td>-0.108255</td>\n",
       "    </tr>\n",
       "    <tr>\n",
       "      <th>MMRAcquisitionRetailAveragePrice</th>\n",
       "      <td>-0.047320</td>\n",
       "      <td>0.427953</td>\n",
       "      <td>0.603574</td>\n",
       "      <td>-0.075786</td>\n",
       "      <td>-0.062618</td>\n",
       "      <td>0.016609</td>\n",
       "      <td>0.902469</td>\n",
       "      <td>0.893421</td>\n",
       "      <td>1.000000</td>\n",
       "      <td>0.987997</td>\n",
       "      <td>0.861199</td>\n",
       "      <td>0.857960</td>\n",
       "      <td>0.927324</td>\n",
       "      <td>0.920108</td>\n",
       "      <td>0.525631</td>\n",
       "      <td>0.775112</td>\n",
       "      <td>0.091991</td>\n",
       "      <td>-0.061431</td>\n",
       "      <td>-0.000922</td>\n",
       "      <td>-0.093041</td>\n",
       "    </tr>\n",
       "    <tr>\n",
       "      <th>MMRAcquisitonRetailCleanPrice</th>\n",
       "      <td>-0.047863</td>\n",
       "      <td>0.408115</td>\n",
       "      <td>0.561334</td>\n",
       "      <td>-0.078039</td>\n",
       "      <td>-0.094012</td>\n",
       "      <td>0.053323</td>\n",
       "      <td>0.900752</td>\n",
       "      <td>0.908717</td>\n",
       "      <td>0.987997</td>\n",
       "      <td>1.000000</td>\n",
       "      <td>0.857287</td>\n",
       "      <td>0.865981</td>\n",
       "      <td>0.918223</td>\n",
       "      <td>0.922588</td>\n",
       "      <td>0.467309</td>\n",
       "      <td>0.778673</td>\n",
       "      <td>0.089451</td>\n",
       "      <td>-0.033092</td>\n",
       "      <td>0.000166</td>\n",
       "      <td>-0.088424</td>\n",
       "    </tr>\n",
       "    <tr>\n",
       "      <th>MMRCurrentAuctionAveragePrice</th>\n",
       "      <td>-0.046271</td>\n",
       "      <td>0.055153</td>\n",
       "      <td>0.597593</td>\n",
       "      <td>-0.106777</td>\n",
       "      <td>-0.078521</td>\n",
       "      <td>-0.039657</td>\n",
       "      <td>0.950371</td>\n",
       "      <td>0.938417</td>\n",
       "      <td>0.861199</td>\n",
       "      <td>0.857287</td>\n",
       "      <td>1.000000</td>\n",
       "      <td>0.989979</td>\n",
       "      <td>0.910116</td>\n",
       "      <td>0.906761</td>\n",
       "      <td>0.483414</td>\n",
       "      <td>0.790203</td>\n",
       "      <td>0.051315</td>\n",
       "      <td>-0.058354</td>\n",
       "      <td>0.002675</td>\n",
       "      <td>-0.112844</td>\n",
       "    </tr>\n",
       "    <tr>\n",
       "      <th>MMRCurrentAuctionCleanPrice</th>\n",
       "      <td>-0.043547</td>\n",
       "      <td>0.058576</td>\n",
       "      <td>0.555352</td>\n",
       "      <td>-0.106676</td>\n",
       "      <td>-0.111996</td>\n",
       "      <td>0.004324</td>\n",
       "      <td>0.944398</td>\n",
       "      <td>0.947137</td>\n",
       "      <td>0.857960</td>\n",
       "      <td>0.865981</td>\n",
       "      <td>0.989979</td>\n",
       "      <td>1.000000</td>\n",
       "      <td>0.901977</td>\n",
       "      <td>0.915050</td>\n",
       "      <td>0.401852</td>\n",
       "      <td>0.790003</td>\n",
       "      <td>0.050922</td>\n",
       "      <td>-0.028701</td>\n",
       "      <td>0.003370</td>\n",
       "      <td>-0.108001</td>\n",
       "    </tr>\n",
       "    <tr>\n",
       "      <th>MMRCurrentRetailAveragePrice</th>\n",
       "      <td>-0.047883</td>\n",
       "      <td>0.360601</td>\n",
       "      <td>0.612541</td>\n",
       "      <td>-0.082646</td>\n",
       "      <td>-0.060229</td>\n",
       "      <td>-0.002932</td>\n",
       "      <td>0.882794</td>\n",
       "      <td>0.872974</td>\n",
       "      <td>0.927324</td>\n",
       "      <td>0.918223</td>\n",
       "      <td>0.910116</td>\n",
       "      <td>0.901977</td>\n",
       "      <td>1.000000</td>\n",
       "      <td>0.988124</td>\n",
       "      <td>0.592958</td>\n",
       "      <td>0.769588</td>\n",
       "      <td>0.088378</td>\n",
       "      <td>-0.063360</td>\n",
       "      <td>0.005054</td>\n",
       "      <td>-0.112443</td>\n",
       "    </tr>\n",
       "    <tr>\n",
       "      <th>MMRCurrentRetailCleanPrice</th>\n",
       "      <td>-0.044631</td>\n",
       "      <td>0.348572</td>\n",
       "      <td>0.572912</td>\n",
       "      <td>-0.083936</td>\n",
       "      <td>-0.088938</td>\n",
       "      <td>0.033535</td>\n",
       "      <td>0.881345</td>\n",
       "      <td>0.883666</td>\n",
       "      <td>0.920108</td>\n",
       "      <td>0.922588</td>\n",
       "      <td>0.906761</td>\n",
       "      <td>0.915050</td>\n",
       "      <td>0.988124</td>\n",
       "      <td>1.000000</td>\n",
       "      <td>0.472058</td>\n",
       "      <td>0.773129</td>\n",
       "      <td>0.085886</td>\n",
       "      <td>-0.035747</td>\n",
       "      <td>0.006577</td>\n",
       "      <td>-0.108434</td>\n",
       "    </tr>\n",
       "    <tr>\n",
       "      <th>MMRCurrentRetailRatio</th>\n",
       "      <td>-0.043228</td>\n",
       "      <td>0.281526</td>\n",
       "      <td>0.536430</td>\n",
       "      <td>-0.028178</td>\n",
       "      <td>0.112964</td>\n",
       "      <td>-0.189008</td>\n",
       "      <td>0.460026</td>\n",
       "      <td>0.397836</td>\n",
       "      <td>0.525631</td>\n",
       "      <td>0.467309</td>\n",
       "      <td>0.483414</td>\n",
       "      <td>0.401852</td>\n",
       "      <td>0.592958</td>\n",
       "      <td>0.472058</td>\n",
       "      <td>1.000000</td>\n",
       "      <td>0.391411</td>\n",
       "      <td>0.056034</td>\n",
       "      <td>-0.193106</td>\n",
       "      <td>-0.003456</td>\n",
       "      <td>-0.092639</td>\n",
       "    </tr>\n",
       "    <tr>\n",
       "      <th>VehBCost</th>\n",
       "      <td>-0.037156</td>\n",
       "      <td>0.144267</td>\n",
       "      <td>0.347285</td>\n",
       "      <td>-0.146637</td>\n",
       "      <td>-0.146463</td>\n",
       "      <td>-0.066654</td>\n",
       "      <td>0.814840</td>\n",
       "      <td>0.812432</td>\n",
       "      <td>0.775112</td>\n",
       "      <td>0.778673</td>\n",
       "      <td>0.790203</td>\n",
       "      <td>0.790003</td>\n",
       "      <td>0.769588</td>\n",
       "      <td>0.773129</td>\n",
       "      <td>0.391411</td>\n",
       "      <td>1.000000</td>\n",
       "      <td>0.043756</td>\n",
       "      <td>-0.039118</td>\n",
       "      <td>0.003911</td>\n",
       "      <td>-0.103841</td>\n",
       "    </tr>\n",
       "    <tr>\n",
       "      <th>IsOnlineSale</th>\n",
       "      <td>-0.019115</td>\n",
       "      <td>0.093479</td>\n",
       "      <td>0.066626</td>\n",
       "      <td>0.008944</td>\n",
       "      <td>-0.011395</td>\n",
       "      <td>0.029727</td>\n",
       "      <td>0.053417</td>\n",
       "      <td>0.052556</td>\n",
       "      <td>0.091991</td>\n",
       "      <td>0.089451</td>\n",
       "      <td>0.051315</td>\n",
       "      <td>0.050922</td>\n",
       "      <td>0.088378</td>\n",
       "      <td>0.085886</td>\n",
       "      <td>0.056034</td>\n",
       "      <td>0.043756</td>\n",
       "      <td>1.000000</td>\n",
       "      <td>0.010592</td>\n",
       "      <td>-0.001027</td>\n",
       "      <td>-0.009860</td>\n",
       "    </tr>\n",
       "    <tr>\n",
       "      <th>WarrantyCost</th>\n",
       "      <td>-0.016771</td>\n",
       "      <td>-0.045020</td>\n",
       "      <td>-0.272241</td>\n",
       "      <td>-0.111767</td>\n",
       "      <td>-0.123316</td>\n",
       "      <td>0.412781</td>\n",
       "      <td>-0.055579</td>\n",
       "      <td>-0.024384</td>\n",
       "      <td>-0.061431</td>\n",
       "      <td>-0.033092</td>\n",
       "      <td>-0.058354</td>\n",
       "      <td>-0.028701</td>\n",
       "      <td>-0.063360</td>\n",
       "      <td>-0.035747</td>\n",
       "      <td>-0.193106</td>\n",
       "      <td>-0.039118</td>\n",
       "      <td>0.010592</td>\n",
       "      <td>1.000000</td>\n",
       "      <td>0.007218</td>\n",
       "      <td>0.047154</td>\n",
       "    </tr>\n",
       "    <tr>\n",
       "      <th>ForSale</th>\n",
       "      <td>-0.001867</td>\n",
       "      <td>-0.003172</td>\n",
       "      <td>-0.001446</td>\n",
       "      <td>-0.001343</td>\n",
       "      <td>0.000345</td>\n",
       "      <td>-0.002853</td>\n",
       "      <td>0.002533</td>\n",
       "      <td>0.003518</td>\n",
       "      <td>-0.000922</td>\n",
       "      <td>0.000166</td>\n",
       "      <td>0.002675</td>\n",
       "      <td>0.003370</td>\n",
       "      <td>0.005054</td>\n",
       "      <td>0.006577</td>\n",
       "      <td>-0.003456</td>\n",
       "      <td>0.003911</td>\n",
       "      <td>-0.001027</td>\n",
       "      <td>0.007218</td>\n",
       "      <td>1.000000</td>\n",
       "      <td>-0.002678</td>\n",
       "    </tr>\n",
       "    <tr>\n",
       "      <th>IsBadBuy</th>\n",
       "      <td>0.021812</td>\n",
       "      <td>0.008770</td>\n",
       "      <td>-0.165518</td>\n",
       "      <td>-0.005287</td>\n",
       "      <td>-0.119806</td>\n",
       "      <td>0.079383</td>\n",
       "      <td>-0.114838</td>\n",
       "      <td>-0.108255</td>\n",
       "      <td>-0.093041</td>\n",
       "      <td>-0.088424</td>\n",
       "      <td>-0.112844</td>\n",
       "      <td>-0.108001</td>\n",
       "      <td>-0.112443</td>\n",
       "      <td>-0.108434</td>\n",
       "      <td>-0.092639</td>\n",
       "      <td>-0.103841</td>\n",
       "      <td>-0.009860</td>\n",
       "      <td>0.047154</td>\n",
       "      <td>-0.002678</td>\n",
       "      <td>1.000000</td>\n",
       "    </tr>\n",
       "  </tbody>\n",
       "</table>\n",
       "</div>"
      ],
      "text/plain": [
       "                                   PurchaseID  PurchaseTimestamp   VehYear  \\\n",
       "PurchaseID                           1.000000          -0.016000 -0.036637   \n",
       "PurchaseTimestamp                   -0.016000           1.000000  0.212045   \n",
       "VehYear                             -0.036637           0.212045  1.000000   \n",
       "Transmission                        -0.006723           0.047899 -0.055910   \n",
       "WheelTypeID                         -0.023341           0.047978  0.265271   \n",
       "VehOdo                               0.010961           0.117364 -0.299002   \n",
       "MMRAcquisitionAuctionAveragePrice   -0.048078           0.082160  0.600547   \n",
       "MMRAcquisitionAuctionCleanPrice     -0.045511           0.082281  0.553301   \n",
       "MMRAcquisitionRetailAveragePrice    -0.047320           0.427953  0.603574   \n",
       "MMRAcquisitonRetailCleanPrice       -0.047863           0.408115  0.561334   \n",
       "MMRCurrentAuctionAveragePrice       -0.046271           0.055153  0.597593   \n",
       "MMRCurrentAuctionCleanPrice         -0.043547           0.058576  0.555352   \n",
       "MMRCurrentRetailAveragePrice        -0.047883           0.360601  0.612541   \n",
       "MMRCurrentRetailCleanPrice          -0.044631           0.348572  0.572912   \n",
       "MMRCurrentRetailRatio               -0.043228           0.281526  0.536430   \n",
       "VehBCost                            -0.037156           0.144267  0.347285   \n",
       "IsOnlineSale                        -0.019115           0.093479  0.066626   \n",
       "WarrantyCost                        -0.016771          -0.045020 -0.272241   \n",
       "ForSale                             -0.001867          -0.003172 -0.001446   \n",
       "IsBadBuy                             0.021812           0.008770 -0.165518   \n",
       "\n",
       "                                   Transmission  WheelTypeID    VehOdo  \\\n",
       "PurchaseID                            -0.006723    -0.023341  0.010961   \n",
       "PurchaseTimestamp                      0.047899     0.047978  0.117364   \n",
       "VehYear                               -0.055910     0.265271 -0.299002   \n",
       "Transmission                           1.000000     0.031257 -0.036304   \n",
       "WheelTypeID                            0.031257     1.000000 -0.205709   \n",
       "VehOdo                                -0.036304    -0.205709  1.000000   \n",
       "MMRAcquisitionAuctionAveragePrice     -0.104316    -0.085045 -0.028377   \n",
       "MMRAcquisitionAuctionCleanPrice       -0.104296    -0.121127  0.017599   \n",
       "MMRAcquisitionRetailAveragePrice      -0.075786    -0.062618  0.016609   \n",
       "MMRAcquisitonRetailCleanPrice         -0.078039    -0.094012  0.053323   \n",
       "MMRCurrentAuctionAveragePrice         -0.106777    -0.078521 -0.039657   \n",
       "MMRCurrentAuctionCleanPrice           -0.106676    -0.111996  0.004324   \n",
       "MMRCurrentRetailAveragePrice          -0.082646    -0.060229 -0.002932   \n",
       "MMRCurrentRetailCleanPrice            -0.083936    -0.088938  0.033535   \n",
       "MMRCurrentRetailRatio                 -0.028178     0.112964 -0.189008   \n",
       "VehBCost                              -0.146637    -0.146463 -0.066654   \n",
       "IsOnlineSale                           0.008944    -0.011395  0.029727   \n",
       "WarrantyCost                          -0.111767    -0.123316  0.412781   \n",
       "ForSale                               -0.001343     0.000345 -0.002853   \n",
       "IsBadBuy                              -0.005287    -0.119806  0.079383   \n",
       "\n",
       "                                   MMRAcquisitionAuctionAveragePrice  \\\n",
       "PurchaseID                                                 -0.048078   \n",
       "PurchaseTimestamp                                           0.082160   \n",
       "VehYear                                                     0.600547   \n",
       "Transmission                                               -0.104316   \n",
       "WheelTypeID                                                -0.085045   \n",
       "VehOdo                                                     -0.028377   \n",
       "MMRAcquisitionAuctionAveragePrice                           1.000000   \n",
       "MMRAcquisitionAuctionCleanPrice                             0.989605   \n",
       "MMRAcquisitionRetailAveragePrice                            0.902469   \n",
       "MMRAcquisitonRetailCleanPrice                               0.900752   \n",
       "MMRCurrentAuctionAveragePrice                               0.950371   \n",
       "MMRCurrentAuctionCleanPrice                                 0.944398   \n",
       "MMRCurrentRetailAveragePrice                                0.882794   \n",
       "MMRCurrentRetailCleanPrice                                  0.881345   \n",
       "MMRCurrentRetailRatio                                       0.460026   \n",
       "VehBCost                                                    0.814840   \n",
       "IsOnlineSale                                                0.053417   \n",
       "WarrantyCost                                               -0.055579   \n",
       "ForSale                                                     0.002533   \n",
       "IsBadBuy                                                   -0.114838   \n",
       "\n",
       "                                   MMRAcquisitionAuctionCleanPrice  \\\n",
       "PurchaseID                                               -0.045511   \n",
       "PurchaseTimestamp                                         0.082281   \n",
       "VehYear                                                   0.553301   \n",
       "Transmission                                             -0.104296   \n",
       "WheelTypeID                                              -0.121127   \n",
       "VehOdo                                                    0.017599   \n",
       "MMRAcquisitionAuctionAveragePrice                         0.989605   \n",
       "MMRAcquisitionAuctionCleanPrice                           1.000000   \n",
       "MMRAcquisitionRetailAveragePrice                          0.893421   \n",
       "MMRAcquisitonRetailCleanPrice                             0.908717   \n",
       "MMRCurrentAuctionAveragePrice                             0.938417   \n",
       "MMRCurrentAuctionCleanPrice                               0.947137   \n",
       "MMRCurrentRetailAveragePrice                              0.872974   \n",
       "MMRCurrentRetailCleanPrice                                0.883666   \n",
       "MMRCurrentRetailRatio                                     0.397836   \n",
       "VehBCost                                                  0.812432   \n",
       "IsOnlineSale                                              0.052556   \n",
       "WarrantyCost                                             -0.024384   \n",
       "ForSale                                                   0.003518   \n",
       "IsBadBuy                                                 -0.108255   \n",
       "\n",
       "                                   MMRAcquisitionRetailAveragePrice  \\\n",
       "PurchaseID                                                -0.047320   \n",
       "PurchaseTimestamp                                          0.427953   \n",
       "VehYear                                                    0.603574   \n",
       "Transmission                                              -0.075786   \n",
       "WheelTypeID                                               -0.062618   \n",
       "VehOdo                                                     0.016609   \n",
       "MMRAcquisitionAuctionAveragePrice                          0.902469   \n",
       "MMRAcquisitionAuctionCleanPrice                            0.893421   \n",
       "MMRAcquisitionRetailAveragePrice                           1.000000   \n",
       "MMRAcquisitonRetailCleanPrice                              0.987997   \n",
       "MMRCurrentAuctionAveragePrice                              0.861199   \n",
       "MMRCurrentAuctionCleanPrice                                0.857960   \n",
       "MMRCurrentRetailAveragePrice                               0.927324   \n",
       "MMRCurrentRetailCleanPrice                                 0.920108   \n",
       "MMRCurrentRetailRatio                                      0.525631   \n",
       "VehBCost                                                   0.775112   \n",
       "IsOnlineSale                                               0.091991   \n",
       "WarrantyCost                                              -0.061431   \n",
       "ForSale                                                   -0.000922   \n",
       "IsBadBuy                                                  -0.093041   \n",
       "\n",
       "                                   MMRAcquisitonRetailCleanPrice  \\\n",
       "PurchaseID                                             -0.047863   \n",
       "PurchaseTimestamp                                       0.408115   \n",
       "VehYear                                                 0.561334   \n",
       "Transmission                                           -0.078039   \n",
       "WheelTypeID                                            -0.094012   \n",
       "VehOdo                                                  0.053323   \n",
       "MMRAcquisitionAuctionAveragePrice                       0.900752   \n",
       "MMRAcquisitionAuctionCleanPrice                         0.908717   \n",
       "MMRAcquisitionRetailAveragePrice                        0.987997   \n",
       "MMRAcquisitonRetailCleanPrice                           1.000000   \n",
       "MMRCurrentAuctionAveragePrice                           0.857287   \n",
       "MMRCurrentAuctionCleanPrice                             0.865981   \n",
       "MMRCurrentRetailAveragePrice                            0.918223   \n",
       "MMRCurrentRetailCleanPrice                              0.922588   \n",
       "MMRCurrentRetailRatio                                   0.467309   \n",
       "VehBCost                                                0.778673   \n",
       "IsOnlineSale                                            0.089451   \n",
       "WarrantyCost                                           -0.033092   \n",
       "ForSale                                                 0.000166   \n",
       "IsBadBuy                                               -0.088424   \n",
       "\n",
       "                                   MMRCurrentAuctionAveragePrice  \\\n",
       "PurchaseID                                             -0.046271   \n",
       "PurchaseTimestamp                                       0.055153   \n",
       "VehYear                                                 0.597593   \n",
       "Transmission                                           -0.106777   \n",
       "WheelTypeID                                            -0.078521   \n",
       "VehOdo                                                 -0.039657   \n",
       "MMRAcquisitionAuctionAveragePrice                       0.950371   \n",
       "MMRAcquisitionAuctionCleanPrice                         0.938417   \n",
       "MMRAcquisitionRetailAveragePrice                        0.861199   \n",
       "MMRAcquisitonRetailCleanPrice                           0.857287   \n",
       "MMRCurrentAuctionAveragePrice                           1.000000   \n",
       "MMRCurrentAuctionCleanPrice                             0.989979   \n",
       "MMRCurrentRetailAveragePrice                            0.910116   \n",
       "MMRCurrentRetailCleanPrice                              0.906761   \n",
       "MMRCurrentRetailRatio                                   0.483414   \n",
       "VehBCost                                                0.790203   \n",
       "IsOnlineSale                                            0.051315   \n",
       "WarrantyCost                                           -0.058354   \n",
       "ForSale                                                 0.002675   \n",
       "IsBadBuy                                               -0.112844   \n",
       "\n",
       "                                   MMRCurrentAuctionCleanPrice  \\\n",
       "PurchaseID                                           -0.043547   \n",
       "PurchaseTimestamp                                     0.058576   \n",
       "VehYear                                               0.555352   \n",
       "Transmission                                         -0.106676   \n",
       "WheelTypeID                                          -0.111996   \n",
       "VehOdo                                                0.004324   \n",
       "MMRAcquisitionAuctionAveragePrice                     0.944398   \n",
       "MMRAcquisitionAuctionCleanPrice                       0.947137   \n",
       "MMRAcquisitionRetailAveragePrice                      0.857960   \n",
       "MMRAcquisitonRetailCleanPrice                         0.865981   \n",
       "MMRCurrentAuctionAveragePrice                         0.989979   \n",
       "MMRCurrentAuctionCleanPrice                           1.000000   \n",
       "MMRCurrentRetailAveragePrice                          0.901977   \n",
       "MMRCurrentRetailCleanPrice                            0.915050   \n",
       "MMRCurrentRetailRatio                                 0.401852   \n",
       "VehBCost                                              0.790003   \n",
       "IsOnlineSale                                          0.050922   \n",
       "WarrantyCost                                         -0.028701   \n",
       "ForSale                                               0.003370   \n",
       "IsBadBuy                                             -0.108001   \n",
       "\n",
       "                                   MMRCurrentRetailAveragePrice  \\\n",
       "PurchaseID                                            -0.047883   \n",
       "PurchaseTimestamp                                      0.360601   \n",
       "VehYear                                                0.612541   \n",
       "Transmission                                          -0.082646   \n",
       "WheelTypeID                                           -0.060229   \n",
       "VehOdo                                                -0.002932   \n",
       "MMRAcquisitionAuctionAveragePrice                      0.882794   \n",
       "MMRAcquisitionAuctionCleanPrice                        0.872974   \n",
       "MMRAcquisitionRetailAveragePrice                       0.927324   \n",
       "MMRAcquisitonRetailCleanPrice                          0.918223   \n",
       "MMRCurrentAuctionAveragePrice                          0.910116   \n",
       "MMRCurrentAuctionCleanPrice                            0.901977   \n",
       "MMRCurrentRetailAveragePrice                           1.000000   \n",
       "MMRCurrentRetailCleanPrice                             0.988124   \n",
       "MMRCurrentRetailRatio                                  0.592958   \n",
       "VehBCost                                               0.769588   \n",
       "IsOnlineSale                                           0.088378   \n",
       "WarrantyCost                                          -0.063360   \n",
       "ForSale                                                0.005054   \n",
       "IsBadBuy                                              -0.112443   \n",
       "\n",
       "                                   MMRCurrentRetailCleanPrice  \\\n",
       "PurchaseID                                          -0.044631   \n",
       "PurchaseTimestamp                                    0.348572   \n",
       "VehYear                                              0.572912   \n",
       "Transmission                                        -0.083936   \n",
       "WheelTypeID                                         -0.088938   \n",
       "VehOdo                                               0.033535   \n",
       "MMRAcquisitionAuctionAveragePrice                    0.881345   \n",
       "MMRAcquisitionAuctionCleanPrice                      0.883666   \n",
       "MMRAcquisitionRetailAveragePrice                     0.920108   \n",
       "MMRAcquisitonRetailCleanPrice                        0.922588   \n",
       "MMRCurrentAuctionAveragePrice                        0.906761   \n",
       "MMRCurrentAuctionCleanPrice                          0.915050   \n",
       "MMRCurrentRetailAveragePrice                         0.988124   \n",
       "MMRCurrentRetailCleanPrice                           1.000000   \n",
       "MMRCurrentRetailRatio                                0.472058   \n",
       "VehBCost                                             0.773129   \n",
       "IsOnlineSale                                         0.085886   \n",
       "WarrantyCost                                        -0.035747   \n",
       "ForSale                                              0.006577   \n",
       "IsBadBuy                                            -0.108434   \n",
       "\n",
       "                                   MMRCurrentRetailRatio  VehBCost  \\\n",
       "PurchaseID                                     -0.043228 -0.037156   \n",
       "PurchaseTimestamp                               0.281526  0.144267   \n",
       "VehYear                                         0.536430  0.347285   \n",
       "Transmission                                   -0.028178 -0.146637   \n",
       "WheelTypeID                                     0.112964 -0.146463   \n",
       "VehOdo                                         -0.189008 -0.066654   \n",
       "MMRAcquisitionAuctionAveragePrice               0.460026  0.814840   \n",
       "MMRAcquisitionAuctionCleanPrice                 0.397836  0.812432   \n",
       "MMRAcquisitionRetailAveragePrice                0.525631  0.775112   \n",
       "MMRAcquisitonRetailCleanPrice                   0.467309  0.778673   \n",
       "MMRCurrentAuctionAveragePrice                   0.483414  0.790203   \n",
       "MMRCurrentAuctionCleanPrice                     0.401852  0.790003   \n",
       "MMRCurrentRetailAveragePrice                    0.592958  0.769588   \n",
       "MMRCurrentRetailCleanPrice                      0.472058  0.773129   \n",
       "MMRCurrentRetailRatio                           1.000000  0.391411   \n",
       "VehBCost                                        0.391411  1.000000   \n",
       "IsOnlineSale                                    0.056034  0.043756   \n",
       "WarrantyCost                                   -0.193106 -0.039118   \n",
       "ForSale                                        -0.003456  0.003911   \n",
       "IsBadBuy                                       -0.092639 -0.103841   \n",
       "\n",
       "                                   IsOnlineSale  WarrantyCost   ForSale  \\\n",
       "PurchaseID                            -0.019115     -0.016771 -0.001867   \n",
       "PurchaseTimestamp                      0.093479     -0.045020 -0.003172   \n",
       "VehYear                                0.066626     -0.272241 -0.001446   \n",
       "Transmission                           0.008944     -0.111767 -0.001343   \n",
       "WheelTypeID                           -0.011395     -0.123316  0.000345   \n",
       "VehOdo                                 0.029727      0.412781 -0.002853   \n",
       "MMRAcquisitionAuctionAveragePrice      0.053417     -0.055579  0.002533   \n",
       "MMRAcquisitionAuctionCleanPrice        0.052556     -0.024384  0.003518   \n",
       "MMRAcquisitionRetailAveragePrice       0.091991     -0.061431 -0.000922   \n",
       "MMRAcquisitonRetailCleanPrice          0.089451     -0.033092  0.000166   \n",
       "MMRCurrentAuctionAveragePrice          0.051315     -0.058354  0.002675   \n",
       "MMRCurrentAuctionCleanPrice            0.050922     -0.028701  0.003370   \n",
       "MMRCurrentRetailAveragePrice           0.088378     -0.063360  0.005054   \n",
       "MMRCurrentRetailCleanPrice             0.085886     -0.035747  0.006577   \n",
       "MMRCurrentRetailRatio                  0.056034     -0.193106 -0.003456   \n",
       "VehBCost                               0.043756     -0.039118  0.003911   \n",
       "IsOnlineSale                           1.000000      0.010592 -0.001027   \n",
       "WarrantyCost                           0.010592      1.000000  0.007218   \n",
       "ForSale                               -0.001027      0.007218  1.000000   \n",
       "IsBadBuy                              -0.009860      0.047154 -0.002678   \n",
       "\n",
       "                                   IsBadBuy  \n",
       "PurchaseID                         0.021812  \n",
       "PurchaseTimestamp                  0.008770  \n",
       "VehYear                           -0.165518  \n",
       "Transmission                      -0.005287  \n",
       "WheelTypeID                       -0.119806  \n",
       "VehOdo                             0.079383  \n",
       "MMRAcquisitionAuctionAveragePrice -0.114838  \n",
       "MMRAcquisitionAuctionCleanPrice   -0.108255  \n",
       "MMRAcquisitionRetailAveragePrice  -0.093041  \n",
       "MMRAcquisitonRetailCleanPrice     -0.088424  \n",
       "MMRCurrentAuctionAveragePrice     -0.112844  \n",
       "MMRCurrentAuctionCleanPrice       -0.108001  \n",
       "MMRCurrentRetailAveragePrice      -0.112443  \n",
       "MMRCurrentRetailCleanPrice        -0.108434  \n",
       "MMRCurrentRetailRatio             -0.092639  \n",
       "VehBCost                          -0.103841  \n",
       "IsOnlineSale                      -0.009860  \n",
       "WarrantyCost                       0.047154  \n",
       "ForSale                           -0.002678  \n",
       "IsBadBuy                           1.000000  "
      ]
     },
     "execution_count": 887,
     "metadata": {},
     "output_type": "execute_result"
    }
   ],
   "source": [
    "# Select only columns with numerical values.\n",
    "numerical_columns = df.select_dtypes(include=['number'])\n",
    "# Display the correlation matrix.\n",
    "correlation_matrix = numerical_columns.corr()\n",
    "correlation_matrix"
   ]
  },
  {
   "cell_type": "code",
   "execution_count": 888,
   "id": "c9c737ae-a030-429a-984d-c278047fdfb4",
   "metadata": {},
   "outputs": [
    {
     "data": {
      "image/png": "[encoded data removed]",
      "text/plain": [
       "<Figure size 1200x1000 with 2 Axes>"
      ]
     },
     "metadata": {},
     "output_type": "display_data"
    }
   ],
   "source": [
    "# Create a mask for the upper triangle to avoid duplicate data\n",
    "correlation_mask = np.triu(np.ones_like(correlation_matrix,dtype=bool))\n",
    "plt.figure(figsize = (12,10))\n",
    "sns.heatmap(correlation_matrix,annot=True,fmt=\".2f\",\n",
    "            annot_kws={'size':8},cmap='coolwarm',\n",
    "            center=0, mask=correlation_mask, square=True)\n",
    "plt.show()"
   ]
  },
  {
   "cell_type": "code",
   "execution_count": 889,
   "id": "eca8ded0-2ce6-4632-b060-664911577d65",
   "metadata": {},
   "outputs": [
    {
     "data": {
      "text/plain": [
       "PRIMEUNIT\n",
       "UNKNOWN    39678\n",
       "NO          1764\n",
       "YES           34\n",
       "Name: count, dtype: int64"
      ]
     },
     "execution_count": 889,
     "metadata": {},
     "output_type": "execute_result"
    }
   ],
   "source": [
    "df['PRIMEUNIT'].value_counts()"
   ]
  },
  {
   "cell_type": "code",
   "execution_count": 890,
   "id": "cd1a1f16-f74b-4a4c-8a6e-2b725d8d628f",
   "metadata": {},
   "outputs": [
    {
     "data": {
      "text/plain": [
       "Color\n",
       "SILVER       8591\n",
       "WHITE        6890\n",
       "BLUE         5855\n",
       "BLACK        4392\n",
       "GREY         4248\n",
       "RED          3661\n",
       "GOLD         3059\n",
       "GREEN        1796\n",
       "MAROON       1039\n",
       "BEIGE         894\n",
       "ORANGE        255\n",
       "BROWN         249\n",
       "PURPLE        205\n",
       "YELLOW        141\n",
       "OTHER         136\n",
       "NOT AVAIL      65\n",
       "Name: count, dtype: int64"
      ]
     },
     "execution_count": 890,
     "metadata": {},
     "output_type": "execute_result"
    }
   ],
   "source": [
    "df['Color'].value_counts()"
   ]
  },
  {
   "cell_type": "code",
   "execution_count": 891,
   "id": "a3ca755f-2b99-45d3-87f2-d6149c651183",
   "metadata": {},
   "outputs": [
    {
     "data": {
      "text/plain": [
       "AUCGUART\n",
       "UNKNOWN    39678\n",
       "GREEN       1754\n",
       "RED           44\n",
       "Name: count, dtype: int64"
      ]
     },
     "execution_count": 891,
     "metadata": {},
     "output_type": "execute_result"
    }
   ],
   "source": [
    "df['AUCGUART'].value_counts()"
   ]
  },
  {
   "cell_type": "code",
   "execution_count": 892,
   "id": "30f67c54-801f-4d2b-ab23-3935fdeced07",
   "metadata": {},
   "outputs": [
    {
     "data": {
      "text/plain": [
       "IsOnlineSale\n",
       "0    40589\n",
       "1      887\n",
       "Name: count, dtype: int64"
      ]
     },
     "execution_count": 892,
     "metadata": {},
     "output_type": "execute_result"
    }
   ],
   "source": [
    "df['IsOnlineSale'].value_counts()"
   ]
  },
  {
   "cell_type": "code",
   "execution_count": 893,
   "id": "1bcabb67-da6a-4d4e-bb79-20fe517c3e6b",
   "metadata": {},
   "outputs": [
    {
     "data": {
      "text/plain": [
       "ForSale\n",
       "0    41474\n",
       "1        2\n",
       "Name: count, dtype: int64"
      ]
     },
     "execution_count": 893,
     "metadata": {},
     "output_type": "execute_result"
    }
   ],
   "source": [
    "df['ForSale'].value_counts()"
   ]
  },
  {
   "cell_type": "code",
   "execution_count": 894,
   "id": "516d3200-3811-475a-a9a7-6dd43009eece",
   "metadata": {},
   "outputs": [
    {
     "data": {
      "text/plain": [
       "Make\n",
       "CHEVROLET     9592\n",
       "DODGE         7385\n",
       "FORD          6458\n",
       "CHRYSLER      5259\n",
       "PONTIAC       2355\n",
       "KIA           1337\n",
       "SATURN        1245\n",
       "NISSAN        1186\n",
       "JEEP           985\n",
       "HYUNDAI        957\n",
       "SUZUKI         842\n",
       "TOYOTA         664\n",
       "MITSUBISHI     569\n",
       "MAZDA          532\n",
       "MERCURY        527\n",
       "BUICK          413\n",
       "GMC            351\n",
       "HONDA          263\n",
       "OLDSMOBILE     146\n",
       "ISUZU           82\n",
       "SCION           77\n",
       "VOLKSWAGEN      73\n",
       "LINCOLN         54\n",
       "INFINITI        27\n",
       "ACURA           19\n",
       "MINI            19\n",
       "CADILLAC        17\n",
       "SUBARU          17\n",
       "LEXUS           13\n",
       "VOLVO           12\n",
       "Name: count, dtype: int64"
      ]
     },
     "execution_count": 894,
     "metadata": {},
     "output_type": "execute_result"
    }
   ],
   "source": [
    "df['Make'].value_counts()"
   ]
  },
  {
   "cell_type": "code",
   "execution_count": 895,
   "id": "820fed44-0a87-4212-b7f3-9c3e64013dd3",
   "metadata": {},
   "outputs": [
    {
     "data": {
      "text/plain": [
       "Nationality\n",
       "AMERICAN          34663\n",
       "OTHER ASIAN        4474\n",
       "TOP LINE ASIAN     2110\n",
       "USA                 125\n",
       "OTHER               104\n",
       "Name: count, dtype: int64"
      ]
     },
     "execution_count": 895,
     "metadata": {},
     "output_type": "execute_result"
    }
   ],
   "source": [
    "df['Nationality'].value_counts()"
   ]
  },
  {
   "cell_type": "code",
   "execution_count": 896,
   "id": "79807fc5-95f7-4c31-9bf7-0721d843cf17",
   "metadata": {},
   "outputs": [],
   "source": [
    "df = pd.get_dummies(df, columns=['Auction'])\n",
    "df = pd.get_dummies(df, columns=['TopThreeAmericanName'])\n",
    "df = pd.get_dummies(df, columns=['Nationality'])\n",
    "df = pd.get_dummies(df, columns=['Make'])\n",
    "df = pd.get_dummies(df, columns=['Size'])"
   ]
  },
  {
   "cell_type": "code",
   "execution_count": 897,
   "id": "a707ded5-9409-4171-95ee-e6cf98a7c15d",
   "metadata": {},
   "outputs": [
    {
     "name": "stdout",
     "output_type": "stream",
     "text": [
      "<class 'pandas.core.frame.DataFrame'>\n",
      "RangeIndex: 41476 entries, 0 to 41475\n",
      "Data columns (total 80 columns):\n",
      " #   Column                             Non-Null Count  Dtype  \n",
      "---  ------                             --------------  -----  \n",
      " 0   PurchaseID                         41476 non-null  int64  \n",
      " 1   PurchaseTimestamp                  41476 non-null  int64  \n",
      " 2   PurchaseDate                       41476 non-null  object \n",
      " 3   VehYear                            41476 non-null  int32  \n",
      " 4   Color                              41476 non-null  object \n",
      " 5   Transmission                       41476 non-null  float64\n",
      " 6   WheelTypeID                        41476 non-null  int32  \n",
      " 7   WheelType                          41476 non-null  object \n",
      " 8   VehOdo                             41476 non-null  float64\n",
      " 9   MMRAcquisitionAuctionAveragePrice  41476 non-null  int32  \n",
      " 10  MMRAcquisitionAuctionCleanPrice    41476 non-null  int32  \n",
      " 11  MMRAcquisitionRetailAveragePrice   41476 non-null  int32  \n",
      " 12  MMRAcquisitonRetailCleanPrice      41476 non-null  int32  \n",
      " 13  MMRCurrentAuctionAveragePrice      41476 non-null  int32  \n",
      " 14  MMRCurrentAuctionCleanPrice        41476 non-null  int32  \n",
      " 15  MMRCurrentRetailAveragePrice       41476 non-null  int32  \n",
      " 16  MMRCurrentRetailCleanPrice         41476 non-null  int32  \n",
      " 17  MMRCurrentRetailRatio              41476 non-null  float64\n",
      " 18  PRIMEUNIT                          41476 non-null  object \n",
      " 19  AUCGUART                           41476 non-null  object \n",
      " 20  VNST                               41476 non-null  object \n",
      " 21  VehBCost                           41476 non-null  int32  \n",
      " 22  IsOnlineSale                       41476 non-null  int32  \n",
      " 23  WarrantyCost                       41476 non-null  float64\n",
      " 24  ForSale                            41476 non-null  int64  \n",
      " 25  IsBadBuy                           41476 non-null  int64  \n",
      " 26  Auction_ADESA                      41476 non-null  bool   \n",
      " 27  Auction_MANHEIM                    41476 non-null  bool   \n",
      " 28  Auction_OTHER                      41476 non-null  bool   \n",
      " 29  TopThreeAmericanName_CHRYSLER      41476 non-null  bool   \n",
      " 30  TopThreeAmericanName_FORD          41476 non-null  bool   \n",
      " 31  TopThreeAmericanName_GM            41476 non-null  bool   \n",
      " 32  TopThreeAmericanName_OTHER         41476 non-null  bool   \n",
      " 33  Nationality_AMERICAN               41476 non-null  bool   \n",
      " 34  Nationality_OTHER                  41476 non-null  bool   \n",
      " 35  Nationality_OTHER ASIAN            41476 non-null  bool   \n",
      " 36  Nationality_TOP LINE ASIAN         41476 non-null  bool   \n",
      " 37  Nationality_USA                    41476 non-null  bool   \n",
      " 38  Make_ACURA                         41476 non-null  bool   \n",
      " 39  Make_BUICK                         41476 non-null  bool   \n",
      " 40  Make_CADILLAC                      41476 non-null  bool   \n",
      " 41  Make_CHEVROLET                     41476 non-null  bool   \n",
      " 42  Make_CHRYSLER                      41476 non-null  bool   \n",
      " 43  Make_DODGE                         41476 non-null  bool   \n",
      " 44  Make_FORD                          41476 non-null  bool   \n",
      " 45  Make_GMC                           41476 non-null  bool   \n",
      " 46  Make_HONDA                         41476 non-null  bool   \n",
      " 47  Make_HYUNDAI                       41476 non-null  bool   \n",
      " 48  Make_INFINITI                      41476 non-null  bool   \n",
      " 49  Make_ISUZU                         41476 non-null  bool   \n",
      " 50  Make_JEEP                          41476 non-null  bool   \n",
      " 51  Make_KIA                           41476 non-null  bool   \n",
      " 52  Make_LEXUS                         41476 non-null  bool   \n",
      " 53  Make_LINCOLN                       41476 non-null  bool   \n",
      " 54  Make_MAZDA                         41476 non-null  bool   \n",
      " 55  Make_MERCURY                       41476 non-null  bool   \n",
      " 56  Make_MINI                          41476 non-null  bool   \n",
      " 57  Make_MITSUBISHI                    41476 non-null  bool   \n",
      " 58  Make_NISSAN                        41476 non-null  bool   \n",
      " 59  Make_OLDSMOBILE                    41476 non-null  bool   \n",
      " 60  Make_PONTIAC                       41476 non-null  bool   \n",
      " 61  Make_SATURN                        41476 non-null  bool   \n",
      " 62  Make_SCION                         41476 non-null  bool   \n",
      " 63  Make_SUBARU                        41476 non-null  bool   \n",
      " 64  Make_SUZUKI                        41476 non-null  bool   \n",
      " 65  Make_TOYOTA                        41476 non-null  bool   \n",
      " 66  Make_VOLKSWAGEN                    41476 non-null  bool   \n",
      " 67  Make_VOLVO                         41476 non-null  bool   \n",
      " 68  Size_COMPACT                       41476 non-null  bool   \n",
      " 69  Size_CROSSOVER                     41476 non-null  bool   \n",
      " 70  Size_LARGE                         41476 non-null  bool   \n",
      " 71  Size_LARGE SUV                     41476 non-null  bool   \n",
      " 72  Size_LARGE TRUCK                   41476 non-null  bool   \n",
      " 73  Size_MEDIUM                        41476 non-null  bool   \n",
      " 74  Size_MEDIUM SUV                    41476 non-null  bool   \n",
      " 75  Size_SMALL SUV                     41476 non-null  bool   \n",
      " 76  Size_SMALL TRUCK                   41476 non-null  bool   \n",
      " 77  Size_SPECIALTY                     41476 non-null  bool   \n",
      " 78  Size_SPORTS                        41476 non-null  bool   \n",
      " 79  Size_VAN                           41476 non-null  bool   \n",
      "dtypes: bool(54), float64(4), int32(12), int64(4), object(6)\n",
      "memory usage: 8.5+ MB\n"
     ]
    }
   ],
   "source": [
    "df.info()"
   ]
  },
  {
   "cell_type": "code",
   "execution_count": 899,
   "id": "4d2f23be-f1f0-499a-8e1a-9aa9d58c9bea",
   "metadata": {},
   "outputs": [],
   "source": [
    "df.drop(['PurchaseDate','Color','WheelType','IsOnlineSale','ForSale','PRIMEUNIT','AUCGUART'],axis=1,inplace=True)"
   ]
  },
  {
   "cell_type": "code",
   "execution_count": 900,
   "id": "e9500bf9-fc82-4635-99d3-382fcdc82602",
   "metadata": {},
   "outputs": [
    {
     "name": "stdout",
     "output_type": "stream",
     "text": [
      "<class 'pandas.core.frame.DataFrame'>\n",
      "RangeIndex: 41476 entries, 0 to 41475\n",
      "Data columns (total 73 columns):\n",
      " #   Column                             Non-Null Count  Dtype  \n",
      "---  ------                             --------------  -----  \n",
      " 0   PurchaseID                         41476 non-null  int64  \n",
      " 1   PurchaseTimestamp                  41476 non-null  int64  \n",
      " 2   VehYear                            41476 non-null  int32  \n",
      " 3   Transmission                       41476 non-null  float64\n",
      " 4   WheelTypeID                        41476 non-null  int32  \n",
      " 5   VehOdo                             41476 non-null  float64\n",
      " 6   MMRAcquisitionAuctionAveragePrice  41476 non-null  int32  \n",
      " 7   MMRAcquisitionAuctionCleanPrice    41476 non-null  int32  \n",
      " 8   MMRAcquisitionRetailAveragePrice   41476 non-null  int32  \n",
      " 9   MMRAcquisitonRetailCleanPrice      41476 non-null  int32  \n",
      " 10  MMRCurrentAuctionAveragePrice      41476 non-null  int32  \n",
      " 11  MMRCurrentAuctionCleanPrice        41476 non-null  int32  \n",
      " 12  MMRCurrentRetailAveragePrice       41476 non-null  int32  \n",
      " 13  MMRCurrentRetailCleanPrice         41476 non-null  int32  \n",
      " 14  MMRCurrentRetailRatio              41476 non-null  float64\n",
      " 15  VNST                               41476 non-null  object \n",
      " 16  VehBCost                           41476 non-null  int32  \n",
      " 17  WarrantyCost                       41476 non-null  float64\n",
      " 18  IsBadBuy                           41476 non-null  int64  \n",
      " 19  Auction_ADESA                      41476 non-null  bool   \n",
      " 20  Auction_MANHEIM                    41476 non-null  bool   \n",
      " 21  Auction_OTHER                      41476 non-null  bool   \n",
      " 22  TopThreeAmericanName_CHRYSLER      41476 non-null  bool   \n",
      " 23  TopThreeAmericanName_FORD          41476 non-null  bool   \n",
      " 24  TopThreeAmericanName_GM            41476 non-null  bool   \n",
      " 25  TopThreeAmericanName_OTHER         41476 non-null  bool   \n",
      " 26  Nationality_AMERICAN               41476 non-null  bool   \n",
      " 27  Nationality_OTHER                  41476 non-null  bool   \n",
      " 28  Nationality_OTHER ASIAN            41476 non-null  bool   \n",
      " 29  Nationality_TOP LINE ASIAN         41476 non-null  bool   \n",
      " 30  Nationality_USA                    41476 non-null  bool   \n",
      " 31  Make_ACURA                         41476 non-null  bool   \n",
      " 32  Make_BUICK                         41476 non-null  bool   \n",
      " 33  Make_CADILLAC                      41476 non-null  bool   \n",
      " 34  Make_CHEVROLET                     41476 non-null  bool   \n",
      " 35  Make_CHRYSLER                      41476 non-null  bool   \n",
      " 36  Make_DODGE                         41476 non-null  bool   \n",
      " 37  Make_FORD                          41476 non-null  bool   \n",
      " 38  Make_GMC                           41476 non-null  bool   \n",
      " 39  Make_HONDA                         41476 non-null  bool   \n",
      " 40  Make_HYUNDAI                       41476 non-null  bool   \n",
      " 41  Make_INFINITI                      41476 non-null  bool   \n",
      " 42  Make_ISUZU                         41476 non-null  bool   \n",
      " 43  Make_JEEP                          41476 non-null  bool   \n",
      " 44  Make_KIA                           41476 non-null  bool   \n",
      " 45  Make_LEXUS                         41476 non-null  bool   \n",
      " 46  Make_LINCOLN                       41476 non-null  bool   \n",
      " 47  Make_MAZDA                         41476 non-null  bool   \n",
      " 48  Make_MERCURY                       41476 non-null  bool   \n",
      " 49  Make_MINI                          41476 non-null  bool   \n",
      " 50  Make_MITSUBISHI                    41476 non-null  bool   \n",
      " 51  Make_NISSAN                        41476 non-null  bool   \n",
      " 52  Make_OLDSMOBILE                    41476 non-null  bool   \n",
      " 53  Make_PONTIAC                       41476 non-null  bool   \n",
      " 54  Make_SATURN                        41476 non-null  bool   \n",
      " 55  Make_SCION                         41476 non-null  bool   \n",
      " 56  Make_SUBARU                        41476 non-null  bool   \n",
      " 57  Make_SUZUKI                        41476 non-null  bool   \n",
      " 58  Make_TOYOTA                        41476 non-null  bool   \n",
      " 59  Make_VOLKSWAGEN                    41476 non-null  bool   \n",
      " 60  Make_VOLVO                         41476 non-null  bool   \n",
      " 61  Size_COMPACT                       41476 non-null  bool   \n",
      " 62  Size_CROSSOVER                     41476 non-null  bool   \n",
      " 63  Size_LARGE                         41476 non-null  bool   \n",
      " 64  Size_LARGE SUV                     41476 non-null  bool   \n",
      " 65  Size_LARGE TRUCK                   41476 non-null  bool   \n",
      " 66  Size_MEDIUM                        41476 non-null  bool   \n",
      " 67  Size_MEDIUM SUV                    41476 non-null  bool   \n",
      " 68  Size_SMALL SUV                     41476 non-null  bool   \n",
      " 69  Size_SMALL TRUCK                   41476 non-null  bool   \n",
      " 70  Size_SPECIALTY                     41476 non-null  bool   \n",
      " 71  Size_SPORTS                        41476 non-null  bool   \n",
      " 72  Size_VAN                           41476 non-null  bool   \n",
      "dtypes: bool(54), float64(4), int32(11), int64(3), object(1)\n",
      "memory usage: 6.4+ MB\n"
     ]
    }
   ],
   "source": [
    "df.info()"
   ]
  },
  {
   "cell_type": "code",
   "execution_count": null,
   "id": "dd643bf7-8813-435b-9e0f-3127870d7680",
   "metadata": {},
   "outputs": [],
   "source": []
  }
 ],
 "metadata": {
  "kernelspec": {
   "display_name": "Python 3 (ipykernel)",
   "language": "python",
   "name": "python3"
  },
  "language_info": {
   "codemirror_mode": {
    "name": "ipython",
    "version": 3
   },
   "file_extension": ".py",
   "mimetype": "text/x-python",
   "name": "python",
   "nbconvert_exporter": "python",
   "pygments_lexer": "ipython3",
   "version": "3.12.7"
  }
 },
 "nbformat": 4,
 "nbformat_minor": 5
}
